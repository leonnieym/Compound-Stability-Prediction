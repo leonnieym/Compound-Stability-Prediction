{
 "cells": [
  {
   "cell_type": "markdown",
   "metadata": {},
   "source": [
    "# Predicting Binary Compound Chemical Stablility -- Wenbo Yan"
   ]
  },
  {
   "cell_type": "markdown",
   "metadata": {},
   "source": [
    "## Overview"
   ]
  },
  {
   "cell_type": "markdown",
   "metadata": {},
   "source": [
    "- [1. Problem Statement](#1.-Problem-Statement)\n",
    "- [2. Approach](#2.-Approach:-Binary-Classification-Vs.-Multi-label-Classification)\n",
    "    - [2.1 Binary Classification](#2.1-Binary-Classification:)\n",
    "    - [2.1 Multi-label Classification](#2.2-Multi-label-Classification)\n",
    "- [3. Exploratory Data Analysis](#3.-Exploratory-Data-Analysis)\n",
    "    - [3.1 Load Data](#3.1-Load-Data)\n",
    "    - [3.2 Check null and Missing Data](#3.2-Check-null-and-Missing-Data)\n",
    "    - [3.3 Check Feature Correlations and Drop Highly Correlated Feature](#3.3-Check-Feature-Correlations-and-Drop-Highly-Correlated-Feature)\n",
    "    - [3.4 Prepare Data for Binary Classification and Multi-label Classification](#3.4-Prepare-Data-into-Binary-Classification-and-Multi-label-Classification)\n",
    "    - [3.5 Data Visualization](#3.5-Data-Visualization)\n",
    "        - [3.5.1 Histogram of Positive Classes and Imbalanced Data](#3.5.1-Class-histogram-showed-imbalanced-data-nature-with-positive-data-only-counts-for-27%)\n",
    "        - [3.5.2 Heatmap of Class Correlation](#3.5.2-Heatmap-showed-no-correlation-between-different-classes)\n",
    "        - [3.5.3 Dimensionality Reduction By PCA](#3.5.3-Dimensionality-Reduction-by-Principal-Component-Analysis)\n",
    "- [4. Metric Selection](#4.-Metric-Selection---F1)\n",
    "- [5. Approach I - Binary Classification](#5.-Approach-I-:-Binary-Classification)\n",
    "    - [5.1 Prepare Input Feature X and Label Y](#5.1-Prepare-Input-Feature-X-and-Label-Y)\n",
    "    - [5.2 Model Evaluation: Logistic Regression, SVM, Random Froest and Gradient Boosting Decision Trees](#5.2-Model-Evaluation-with-Logistic-Regression(LR),-SVM,-Random-Forest(RF)-and-Gradient-Boosting-Decision-Trees(GBDT))\n",
    "    - [5.3 Model Selection: Hyperparameter Tuning on SVM and Gradient Boosting Decision Trees](#5.3-Model-Selection:-Hyperparameter-Tuning-on-SVM-and-Gradient-Boosting-Decision-Trees)\n",
    "        - [5.3.1 SVM](#5.3.1-SVM)\n",
    "        - [5.3.2 RF](#5.3.2-RF)\n",
    "        - [5.3.3 GBDT](#5.3.3-Gradient-Boosting-Decision-Trees(GBDT))\n",
    "- [6. Binary Classification Summary](#6.-Binary-Classification-Summary)\n",
    "- [7. Binary Classification Test Data Prediction](#7.-Binary-Classification-Test-Data-Prediction)\n",
    "- [8. Approach II - Multi-label Classification](#8.-Approach-II:-Multi-label-Calssification)\n",
    "    - [8.1 Prepare Input X and Label Y](#8.1-Prepare-the-Input-Features-X-and-Label-Y)\n",
    "    - [8.2 Binary Relevance Model Evaluation: LR, SVM, RF, GBDT](#8.2-Binary-Relevance-Model-Evaluation:-LR,-SVM,-RF-and-GBDT)\n",
    "        - [8.2.1 LR](#8.2.1-LR)\n",
    "        - [8.2.2 SVM](#8.2.2-SVM)\n",
    "        - [8.2.3 GBDT](#8.2.3-GBDT)\n",
    "        - [8.2.4 RF](#8.2.4-RF)\n",
    "    - [8.3 Classifier Chains](#8.3-Classifier-Chains)\n",
    "- [9. Binary Classification Vs. Multi-label Classification](#9.-Binary-Classification-Vs.-Multi-label-Classification)\n",
    "- [10. Test Data Prediction and Submission](#10.-Test-Data-Prediction-and-Submission)\n",
    "       "
   ]
  },
  {
   "cell_type": "markdown",
   "metadata": {},
   "source": [
    "## 1. Problem Statement "
   ]
  },
  {
   "cell_type": "markdown",
   "metadata": {},
   "source": [
    "#### Given a pair of elements, predict the stable binary compounds that forms on mixing."
   ]
  },
  {
   "cell_type": "markdown",
   "metadata": {},
   "source": [
    "## 2. Approach: Binary Classification Vs. Multi-label Classification"
   ]
  },
  {
   "cell_type": "markdown",
   "metadata": {},
   "source": [
    "### 2.1 Binary Classification: \n",
    "#### The data contains element A and element B physical and chemical properties in numerical values. The stablility, which was the label of the data, is in (1 X 11) dimentional vector format. Based on my understanding, the composition ratio of A : B is a very inportant factor. First approach is to extract the composition ratio information as a separate feature and transform this dataset into a binary classification problem. For example, for each row, I will duplicate it into 11 rows and then add a 'B ratio' column as 100, 90, ... 0. For each sample, the label will be either '1'(stable) or '0'(non stable).  There are supervised models such as logistic regression, SVM, random forest, XGBoost, naive bayes and neural networks for this type of classification. \n",
    "\n",
    "### 2.2 Multi-label Classification\n",
    "#### For each row of sample in raw data set, it has11 labels in stablity vector depending on the composition ratio of A and B. There are different ways in predicting multi-label classifications including Binary Relevance and Classifier Chains which will be discussed below."
   ]
  },
  {
   "cell_type": "markdown",
   "metadata": {},
   "source": [
    "## 3. Exploratory Data Analysis"
   ]
  },
  {
   "cell_type": "markdown",
   "metadata": {},
   "source": [
    "#### There is no missing data. Found 13 features are highly correlated (corr coefficient > 0.9) with another feature and I decide to drop these features, which ended up with 84 features."
   ]
  },
  {
   "cell_type": "code",
   "execution_count": 1,
   "metadata": {},
   "outputs": [],
   "source": [
    "# Load packages\n",
    "import pandas as pd\n",
    "import numpy as np\n",
    "import pandas_profiling\n",
    "import matplotlib.pyplot as plt\n",
    "import seaborn as sns\n",
    "import warnings\n",
    "warnings.filterwarnings('ignore')\n",
    "%matplotlib inline"
   ]
  },
  {
   "cell_type": "markdown",
   "metadata": {},
   "source": [
    "### 3.1 Load Data"
   ]
  },
  {
   "cell_type": "code",
   "execution_count": 2,
   "metadata": {},
   "outputs": [
    {
     "data": {
      "text/html": [
       "<div>\n",
       "<style scoped>\n",
       "    .dataframe tbody tr th:only-of-type {\n",
       "        vertical-align: middle;\n",
       "    }\n",
       "\n",
       "    .dataframe tbody tr th {\n",
       "        vertical-align: top;\n",
       "    }\n",
       "\n",
       "    .dataframe thead th {\n",
       "        text-align: right;\n",
       "    }\n",
       "</style>\n",
       "<table border=\"1\" class=\"dataframe\">\n",
       "  <thead>\n",
       "    <tr style=\"text-align: right;\">\n",
       "      <th></th>\n",
       "      <th>formulaA</th>\n",
       "      <th>formulaB</th>\n",
       "      <th>formulaA_elements_AtomicVolume</th>\n",
       "      <th>formulaB_elements_AtomicVolume</th>\n",
       "      <th>formulaA_elements_AtomicWeight</th>\n",
       "      <th>formulaB_elements_AtomicWeight</th>\n",
       "      <th>formulaA_elements_BoilingT</th>\n",
       "      <th>formulaB_elements_BoilingT</th>\n",
       "      <th>formulaA_elements_BulkModulus</th>\n",
       "      <th>formulaB_elements_BulkModulus</th>\n",
       "      <th>...</th>\n",
       "      <th>formulaB_elements_Row</th>\n",
       "      <th>formulaA_elements_ShearModulus</th>\n",
       "      <th>formulaB_elements_ShearModulus</th>\n",
       "      <th>formulaA_elements_SpaceGroupNumber</th>\n",
       "      <th>formulaB_elements_SpaceGroupNumber</th>\n",
       "      <th>avg_coordination_A</th>\n",
       "      <th>avg_coordination_B</th>\n",
       "      <th>avg_nearest_neighbor_distance_A</th>\n",
       "      <th>avg_nearest_neighbor_distance_B</th>\n",
       "      <th>stabilityVec</th>\n",
       "    </tr>\n",
       "  </thead>\n",
       "  <tbody>\n",
       "    <tr>\n",
       "      <th>0</th>\n",
       "      <td>Ac</td>\n",
       "      <td>Ag</td>\n",
       "      <td>37.433086</td>\n",
       "      <td>17.075648</td>\n",
       "      <td>227.0</td>\n",
       "      <td>107.868200</td>\n",
       "      <td>3473.0</td>\n",
       "      <td>2435.0</td>\n",
       "      <td>0.0</td>\n",
       "      <td>100.0</td>\n",
       "      <td>...</td>\n",
       "      <td>5</td>\n",
       "      <td>0.0</td>\n",
       "      <td>30.0</td>\n",
       "      <td>225</td>\n",
       "      <td>225</td>\n",
       "      <td>12.0</td>\n",
       "      <td>12.0</td>\n",
       "      <td>3.99462</td>\n",
       "      <td>2.94195</td>\n",
       "      <td>[1.0,0.0,0.0,1.0,0.0,1.0,0.0,0.0,0.0,0.0,1.0]</td>\n",
       "    </tr>\n",
       "    <tr>\n",
       "      <th>1</th>\n",
       "      <td>Ac</td>\n",
       "      <td>Al</td>\n",
       "      <td>37.433086</td>\n",
       "      <td>16.594425</td>\n",
       "      <td>227.0</td>\n",
       "      <td>26.981539</td>\n",
       "      <td>3473.0</td>\n",
       "      <td>2792.0</td>\n",
       "      <td>0.0</td>\n",
       "      <td>76.0</td>\n",
       "      <td>...</td>\n",
       "      <td>3</td>\n",
       "      <td>0.0</td>\n",
       "      <td>26.0</td>\n",
       "      <td>225</td>\n",
       "      <td>225</td>\n",
       "      <td>12.0</td>\n",
       "      <td>12.0</td>\n",
       "      <td>3.99462</td>\n",
       "      <td>2.85595</td>\n",
       "      <td>[1.0,0.0,0.0,1.0,0.0,0.0,0.0,0.0,0.0,0.0,1.0]</td>\n",
       "    </tr>\n",
       "    <tr>\n",
       "      <th>2</th>\n",
       "      <td>Ac</td>\n",
       "      <td>As</td>\n",
       "      <td>37.433086</td>\n",
       "      <td>21.723966</td>\n",
       "      <td>227.0</td>\n",
       "      <td>74.921600</td>\n",
       "      <td>3473.0</td>\n",
       "      <td>887.0</td>\n",
       "      <td>0.0</td>\n",
       "      <td>22.0</td>\n",
       "      <td>...</td>\n",
       "      <td>4</td>\n",
       "      <td>0.0</td>\n",
       "      <td>0.0</td>\n",
       "      <td>225</td>\n",
       "      <td>166</td>\n",
       "      <td>12.0</td>\n",
       "      <td>3.0</td>\n",
       "      <td>3.99462</td>\n",
       "      <td>2.55790</td>\n",
       "      <td>[1.0,0.0,0.0,0.0,0.0,0.0,0.0,0.0,0.0,0.0,1.0]</td>\n",
       "    </tr>\n",
       "    <tr>\n",
       "      <th>3</th>\n",
       "      <td>Ac</td>\n",
       "      <td>Ba</td>\n",
       "      <td>37.433086</td>\n",
       "      <td>64.969282</td>\n",
       "      <td>227.0</td>\n",
       "      <td>137.327000</td>\n",
       "      <td>3473.0</td>\n",
       "      <td>2143.0</td>\n",
       "      <td>0.0</td>\n",
       "      <td>9.6</td>\n",
       "      <td>...</td>\n",
       "      <td>6</td>\n",
       "      <td>0.0</td>\n",
       "      <td>4.9</td>\n",
       "      <td>225</td>\n",
       "      <td>229</td>\n",
       "      <td>12.0</td>\n",
       "      <td>8.0</td>\n",
       "      <td>3.99462</td>\n",
       "      <td>4.35637</td>\n",
       "      <td>[1.0,0.0,0.0,0.0,0.0,0.0,0.0,0.0,0.0,0.0,1.0]</td>\n",
       "    </tr>\n",
       "    <tr>\n",
       "      <th>4</th>\n",
       "      <td>Ac</td>\n",
       "      <td>Bi</td>\n",
       "      <td>37.433086</td>\n",
       "      <td>35.483459</td>\n",
       "      <td>227.0</td>\n",
       "      <td>208.980400</td>\n",
       "      <td>3473.0</td>\n",
       "      <td>1837.0</td>\n",
       "      <td>0.0</td>\n",
       "      <td>31.0</td>\n",
       "      <td>...</td>\n",
       "      <td>6</td>\n",
       "      <td>0.0</td>\n",
       "      <td>12.0</td>\n",
       "      <td>225</td>\n",
       "      <td>12</td>\n",
       "      <td>12.0</td>\n",
       "      <td>3.0</td>\n",
       "      <td>3.99462</td>\n",
       "      <td>3.11221</td>\n",
       "      <td>[1.0,0.0,0.0,0.0,0.0,0.0,0.0,0.0,0.0,0.0,1.0]</td>\n",
       "    </tr>\n",
       "  </tbody>\n",
       "</table>\n",
       "<p>5 rows × 99 columns</p>\n",
       "</div>"
      ],
      "text/plain": [
       "  formulaA formulaB  formulaA_elements_AtomicVolume  \\\n",
       "0       Ac       Ag                       37.433086   \n",
       "1       Ac       Al                       37.433086   \n",
       "2       Ac       As                       37.433086   \n",
       "3       Ac       Ba                       37.433086   \n",
       "4       Ac       Bi                       37.433086   \n",
       "\n",
       "   formulaB_elements_AtomicVolume  formulaA_elements_AtomicWeight  \\\n",
       "0                       17.075648                           227.0   \n",
       "1                       16.594425                           227.0   \n",
       "2                       21.723966                           227.0   \n",
       "3                       64.969282                           227.0   \n",
       "4                       35.483459                           227.0   \n",
       "\n",
       "   formulaB_elements_AtomicWeight  formulaA_elements_BoilingT  \\\n",
       "0                      107.868200                      3473.0   \n",
       "1                       26.981539                      3473.0   \n",
       "2                       74.921600                      3473.0   \n",
       "3                      137.327000                      3473.0   \n",
       "4                      208.980400                      3473.0   \n",
       "\n",
       "   formulaB_elements_BoilingT  formulaA_elements_BulkModulus  \\\n",
       "0                      2435.0                            0.0   \n",
       "1                      2792.0                            0.0   \n",
       "2                       887.0                            0.0   \n",
       "3                      2143.0                            0.0   \n",
       "4                      1837.0                            0.0   \n",
       "\n",
       "   formulaB_elements_BulkModulus  \\\n",
       "0                          100.0   \n",
       "1                           76.0   \n",
       "2                           22.0   \n",
       "3                            9.6   \n",
       "4                           31.0   \n",
       "\n",
       "                       ...                        formulaB_elements_Row  \\\n",
       "0                      ...                                            5   \n",
       "1                      ...                                            3   \n",
       "2                      ...                                            4   \n",
       "3                      ...                                            6   \n",
       "4                      ...                                            6   \n",
       "\n",
       "   formulaA_elements_ShearModulus  formulaB_elements_ShearModulus  \\\n",
       "0                             0.0                            30.0   \n",
       "1                             0.0                            26.0   \n",
       "2                             0.0                             0.0   \n",
       "3                             0.0                             4.9   \n",
       "4                             0.0                            12.0   \n",
       "\n",
       "   formulaA_elements_SpaceGroupNumber  formulaB_elements_SpaceGroupNumber  \\\n",
       "0                                 225                                 225   \n",
       "1                                 225                                 225   \n",
       "2                                 225                                 166   \n",
       "3                                 225                                 229   \n",
       "4                                 225                                  12   \n",
       "\n",
       "   avg_coordination_A  avg_coordination_B  avg_nearest_neighbor_distance_A  \\\n",
       "0                12.0                12.0                          3.99462   \n",
       "1                12.0                12.0                          3.99462   \n",
       "2                12.0                 3.0                          3.99462   \n",
       "3                12.0                 8.0                          3.99462   \n",
       "4                12.0                 3.0                          3.99462   \n",
       "\n",
       "   avg_nearest_neighbor_distance_B  \\\n",
       "0                          2.94195   \n",
       "1                          2.85595   \n",
       "2                          2.55790   \n",
       "3                          4.35637   \n",
       "4                          3.11221   \n",
       "\n",
       "                                    stabilityVec  \n",
       "0  [1.0,0.0,0.0,1.0,0.0,1.0,0.0,0.0,0.0,0.0,1.0]  \n",
       "1  [1.0,0.0,0.0,1.0,0.0,0.0,0.0,0.0,0.0,0.0,1.0]  \n",
       "2  [1.0,0.0,0.0,0.0,0.0,0.0,0.0,0.0,0.0,0.0,1.0]  \n",
       "3  [1.0,0.0,0.0,0.0,0.0,0.0,0.0,0.0,0.0,0.0,1.0]  \n",
       "4  [1.0,0.0,0.0,0.0,0.0,0.0,0.0,0.0,0.0,0.0,1.0]  \n",
       "\n",
       "[5 rows x 99 columns]"
      ]
     },
     "execution_count": 2,
     "metadata": {},
     "output_type": "execute_result"
    }
   ],
   "source": [
    "# Load training data to pandas\n",
    "df = pd.read_csv('training_data.csv')\n",
    "df.head()"
   ]
  },
  {
   "cell_type": "markdown",
   "metadata": {},
   "source": [
    "### 3.2 Check null and Missing Data"
   ]
  },
  {
   "cell_type": "code",
   "execution_count": 3,
   "metadata": {},
   "outputs": [
    {
     "data": {
      "text/html": [
       "<div>\n",
       "<style scoped>\n",
       "    .dataframe tbody tr th:only-of-type {\n",
       "        vertical-align: middle;\n",
       "    }\n",
       "\n",
       "    .dataframe tbody tr th {\n",
       "        vertical-align: top;\n",
       "    }\n",
       "\n",
       "    .dataframe thead th {\n",
       "        text-align: right;\n",
       "    }\n",
       "</style>\n",
       "<table border=\"1\" class=\"dataframe\">\n",
       "  <thead>\n",
       "    <tr style=\"text-align: right;\">\n",
       "      <th></th>\n",
       "      <th>formulaA_elements_AtomicVolume</th>\n",
       "      <th>formulaB_elements_AtomicVolume</th>\n",
       "      <th>formulaA_elements_AtomicWeight</th>\n",
       "      <th>formulaB_elements_AtomicWeight</th>\n",
       "      <th>formulaA_elements_BoilingT</th>\n",
       "      <th>formulaB_elements_BoilingT</th>\n",
       "      <th>formulaA_elements_BulkModulus</th>\n",
       "      <th>formulaB_elements_BulkModulus</th>\n",
       "      <th>formulaA_elements_Column</th>\n",
       "      <th>formulaB_elements_Column</th>\n",
       "      <th>...</th>\n",
       "      <th>formulaA_elements_Row</th>\n",
       "      <th>formulaB_elements_Row</th>\n",
       "      <th>formulaA_elements_ShearModulus</th>\n",
       "      <th>formulaB_elements_ShearModulus</th>\n",
       "      <th>formulaA_elements_SpaceGroupNumber</th>\n",
       "      <th>formulaB_elements_SpaceGroupNumber</th>\n",
       "      <th>avg_coordination_A</th>\n",
       "      <th>avg_coordination_B</th>\n",
       "      <th>avg_nearest_neighbor_distance_A</th>\n",
       "      <th>avg_nearest_neighbor_distance_B</th>\n",
       "    </tr>\n",
       "  </thead>\n",
       "  <tbody>\n",
       "    <tr>\n",
       "      <th>count</th>\n",
       "      <td>2572.000000</td>\n",
       "      <td>2572.000000</td>\n",
       "      <td>2572.000000</td>\n",
       "      <td>2572.000000</td>\n",
       "      <td>2572.000000</td>\n",
       "      <td>2572.000000</td>\n",
       "      <td>2572.000000</td>\n",
       "      <td>2572.000000</td>\n",
       "      <td>2572.000000</td>\n",
       "      <td>2572.000000</td>\n",
       "      <td>...</td>\n",
       "      <td>2572.000000</td>\n",
       "      <td>2572.000000</td>\n",
       "      <td>2572.000000</td>\n",
       "      <td>2572.000000</td>\n",
       "      <td>2572.000000</td>\n",
       "      <td>2572.000000</td>\n",
       "      <td>2572.000000</td>\n",
       "      <td>2572.000000</td>\n",
       "      <td>2572.000000</td>\n",
       "      <td>2572.000000</td>\n",
       "    </tr>\n",
       "    <tr>\n",
       "      <th>mean</th>\n",
       "      <td>2207.340923</td>\n",
       "      <td>2220.778005</td>\n",
       "      <td>112.319674</td>\n",
       "      <td>113.247322</td>\n",
       "      <td>2733.916283</td>\n",
       "      <td>2740.693188</td>\n",
       "      <td>74.569868</td>\n",
       "      <td>78.194751</td>\n",
       "      <td>7.992224</td>\n",
       "      <td>8.064930</td>\n",
       "      <td>...</td>\n",
       "      <td>4.844090</td>\n",
       "      <td>4.857698</td>\n",
       "      <td>34.256726</td>\n",
       "      <td>35.582387</td>\n",
       "      <td>187.127138</td>\n",
       "      <td>189.957232</td>\n",
       "      <td>9.152102</td>\n",
       "      <td>9.271954</td>\n",
       "      <td>3.114011</td>\n",
       "      <td>3.130684</td>\n",
       "    </tr>\n",
       "    <tr>\n",
       "      <th>std</th>\n",
       "      <td>8729.184304</td>\n",
       "      <td>8751.899407</td>\n",
       "      <td>65.258759</td>\n",
       "      <td>65.877000</td>\n",
       "      <td>1507.624155</td>\n",
       "      <td>1510.148266</td>\n",
       "      <td>93.757854</td>\n",
       "      <td>96.094178</td>\n",
       "      <td>5.496219</td>\n",
       "      <td>5.475384</td>\n",
       "      <td>...</td>\n",
       "      <td>1.377499</td>\n",
       "      <td>1.373744</td>\n",
       "      <td>50.611912</td>\n",
       "      <td>51.760457</td>\n",
       "      <td>56.243399</td>\n",
       "      <td>53.868652</td>\n",
       "      <td>3.637761</td>\n",
       "      <td>3.597788</td>\n",
       "      <td>0.708516</td>\n",
       "      <td>0.716404</td>\n",
       "    </tr>\n",
       "    <tr>\n",
       "      <th>min</th>\n",
       "      <td>7.297767</td>\n",
       "      <td>7.297767</td>\n",
       "      <td>4.002602</td>\n",
       "      <td>4.002602</td>\n",
       "      <td>4.070000</td>\n",
       "      <td>4.070000</td>\n",
       "      <td>0.000000</td>\n",
       "      <td>0.000000</td>\n",
       "      <td>1.000000</td>\n",
       "      <td>1.000000</td>\n",
       "      <td>...</td>\n",
       "      <td>1.000000</td>\n",
       "      <td>1.000000</td>\n",
       "      <td>0.000000</td>\n",
       "      <td>0.000000</td>\n",
       "      <td>2.000000</td>\n",
       "      <td>2.000000</td>\n",
       "      <td>1.000000</td>\n",
       "      <td>1.000000</td>\n",
       "      <td>1.424090</td>\n",
       "      <td>1.424090</td>\n",
       "    </tr>\n",
       "    <tr>\n",
       "      <th>25%</th>\n",
       "      <td>15.858734</td>\n",
       "      <td>15.858734</td>\n",
       "      <td>55.845000</td>\n",
       "      <td>55.845000</td>\n",
       "      <td>1469.000000</td>\n",
       "      <td>1615.000000</td>\n",
       "      <td>6.300000</td>\n",
       "      <td>7.700000</td>\n",
       "      <td>3.000000</td>\n",
       "      <td>3.000000</td>\n",
       "      <td>...</td>\n",
       "      <td>4.000000</td>\n",
       "      <td>4.000000</td>\n",
       "      <td>0.000000</td>\n",
       "      <td>0.000000</td>\n",
       "      <td>194.000000</td>\n",
       "      <td>194.000000</td>\n",
       "      <td>6.000000</td>\n",
       "      <td>8.000000</td>\n",
       "      <td>2.626730</td>\n",
       "      <td>2.665670</td>\n",
       "    </tr>\n",
       "    <tr>\n",
       "      <th>50%</th>\n",
       "      <td>26.082658</td>\n",
       "      <td>26.966785</td>\n",
       "      <td>107.868200</td>\n",
       "      <td>107.868200</td>\n",
       "      <td>2973.000000</td>\n",
       "      <td>2973.000000</td>\n",
       "      <td>38.700000</td>\n",
       "      <td>41.000000</td>\n",
       "      <td>7.000000</td>\n",
       "      <td>7.000000</td>\n",
       "      <td>...</td>\n",
       "      <td>5.000000</td>\n",
       "      <td>5.000000</td>\n",
       "      <td>18.000000</td>\n",
       "      <td>18.000000</td>\n",
       "      <td>194.000000</td>\n",
       "      <td>194.000000</td>\n",
       "      <td>12.000000</td>\n",
       "      <td>12.000000</td>\n",
       "      <td>2.949550</td>\n",
       "      <td>2.949550</td>\n",
       "    </tr>\n",
       "    <tr>\n",
       "      <th>75%</th>\n",
       "      <td>34.784501</td>\n",
       "      <td>34.784501</td>\n",
       "      <td>164.930320</td>\n",
       "      <td>167.259000</td>\n",
       "      <td>3680.000000</td>\n",
       "      <td>3676.250000</td>\n",
       "      <td>110.000000</td>\n",
       "      <td>120.000000</td>\n",
       "      <td>13.000000</td>\n",
       "      <td>13.000000</td>\n",
       "      <td>...</td>\n",
       "      <td>6.000000</td>\n",
       "      <td>6.000000</td>\n",
       "      <td>38.000000</td>\n",
       "      <td>38.000000</td>\n",
       "      <td>225.000000</td>\n",
       "      <td>225.000000</td>\n",
       "      <td>12.000000</td>\n",
       "      <td>12.000000</td>\n",
       "      <td>3.541010</td>\n",
       "      <td>3.560590</td>\n",
       "    </tr>\n",
       "    <tr>\n",
       "      <th>max</th>\n",
       "      <td>37236.035560</td>\n",
       "      <td>37236.035560</td>\n",
       "      <td>238.028910</td>\n",
       "      <td>238.028910</td>\n",
       "      <td>5869.000000</td>\n",
       "      <td>5869.000000</td>\n",
       "      <td>380.000000</td>\n",
       "      <td>380.000000</td>\n",
       "      <td>18.000000</td>\n",
       "      <td>18.000000</td>\n",
       "      <td>...</td>\n",
       "      <td>7.000000</td>\n",
       "      <td>7.000000</td>\n",
       "      <td>222.000000</td>\n",
       "      <td>222.000000</td>\n",
       "      <td>229.000000</td>\n",
       "      <td>229.000000</td>\n",
       "      <td>12.000000</td>\n",
       "      <td>12.000000</td>\n",
       "      <td>5.323950</td>\n",
       "      <td>5.323950</td>\n",
       "    </tr>\n",
       "  </tbody>\n",
       "</table>\n",
       "<p>8 rows × 96 columns</p>\n",
       "</div>"
      ],
      "text/plain": [
       "       formulaA_elements_AtomicVolume  formulaB_elements_AtomicVolume  \\\n",
       "count                     2572.000000                     2572.000000   \n",
       "mean                      2207.340923                     2220.778005   \n",
       "std                       8729.184304                     8751.899407   \n",
       "min                          7.297767                        7.297767   \n",
       "25%                         15.858734                       15.858734   \n",
       "50%                         26.082658                       26.966785   \n",
       "75%                         34.784501                       34.784501   \n",
       "max                      37236.035560                    37236.035560   \n",
       "\n",
       "       formulaA_elements_AtomicWeight  formulaB_elements_AtomicWeight  \\\n",
       "count                     2572.000000                     2572.000000   \n",
       "mean                       112.319674                      113.247322   \n",
       "std                         65.258759                       65.877000   \n",
       "min                          4.002602                        4.002602   \n",
       "25%                         55.845000                       55.845000   \n",
       "50%                        107.868200                      107.868200   \n",
       "75%                        164.930320                      167.259000   \n",
       "max                        238.028910                      238.028910   \n",
       "\n",
       "       formulaA_elements_BoilingT  formulaB_elements_BoilingT  \\\n",
       "count                 2572.000000                 2572.000000   \n",
       "mean                  2733.916283                 2740.693188   \n",
       "std                   1507.624155                 1510.148266   \n",
       "min                      4.070000                    4.070000   \n",
       "25%                   1469.000000                 1615.000000   \n",
       "50%                   2973.000000                 2973.000000   \n",
       "75%                   3680.000000                 3676.250000   \n",
       "max                   5869.000000                 5869.000000   \n",
       "\n",
       "       formulaA_elements_BulkModulus  formulaB_elements_BulkModulus  \\\n",
       "count                    2572.000000                    2572.000000   \n",
       "mean                       74.569868                      78.194751   \n",
       "std                        93.757854                      96.094178   \n",
       "min                         0.000000                       0.000000   \n",
       "25%                         6.300000                       7.700000   \n",
       "50%                        38.700000                      41.000000   \n",
       "75%                       110.000000                     120.000000   \n",
       "max                       380.000000                     380.000000   \n",
       "\n",
       "       formulaA_elements_Column  formulaB_elements_Column  \\\n",
       "count               2572.000000               2572.000000   \n",
       "mean                   7.992224                  8.064930   \n",
       "std                    5.496219                  5.475384   \n",
       "min                    1.000000                  1.000000   \n",
       "25%                    3.000000                  3.000000   \n",
       "50%                    7.000000                  7.000000   \n",
       "75%                   13.000000                 13.000000   \n",
       "max                   18.000000                 18.000000   \n",
       "\n",
       "                    ...                 formulaA_elements_Row  \\\n",
       "count               ...                           2572.000000   \n",
       "mean                ...                              4.844090   \n",
       "std                 ...                              1.377499   \n",
       "min                 ...                              1.000000   \n",
       "25%                 ...                              4.000000   \n",
       "50%                 ...                              5.000000   \n",
       "75%                 ...                              6.000000   \n",
       "max                 ...                              7.000000   \n",
       "\n",
       "       formulaB_elements_Row  formulaA_elements_ShearModulus  \\\n",
       "count            2572.000000                     2572.000000   \n",
       "mean                4.857698                       34.256726   \n",
       "std                 1.373744                       50.611912   \n",
       "min                 1.000000                        0.000000   \n",
       "25%                 4.000000                        0.000000   \n",
       "50%                 5.000000                       18.000000   \n",
       "75%                 6.000000                       38.000000   \n",
       "max                 7.000000                      222.000000   \n",
       "\n",
       "       formulaB_elements_ShearModulus  formulaA_elements_SpaceGroupNumber  \\\n",
       "count                     2572.000000                         2572.000000   \n",
       "mean                        35.582387                          187.127138   \n",
       "std                         51.760457                           56.243399   \n",
       "min                          0.000000                            2.000000   \n",
       "25%                          0.000000                          194.000000   \n",
       "50%                         18.000000                          194.000000   \n",
       "75%                         38.000000                          225.000000   \n",
       "max                        222.000000                          229.000000   \n",
       "\n",
       "       formulaB_elements_SpaceGroupNumber  avg_coordination_A  \\\n",
       "count                         2572.000000         2572.000000   \n",
       "mean                           189.957232            9.152102   \n",
       "std                             53.868652            3.637761   \n",
       "min                              2.000000            1.000000   \n",
       "25%                            194.000000            6.000000   \n",
       "50%                            194.000000           12.000000   \n",
       "75%                            225.000000           12.000000   \n",
       "max                            229.000000           12.000000   \n",
       "\n",
       "       avg_coordination_B  avg_nearest_neighbor_distance_A  \\\n",
       "count         2572.000000                      2572.000000   \n",
       "mean             9.271954                         3.114011   \n",
       "std              3.597788                         0.708516   \n",
       "min              1.000000                         1.424090   \n",
       "25%              8.000000                         2.626730   \n",
       "50%             12.000000                         2.949550   \n",
       "75%             12.000000                         3.541010   \n",
       "max             12.000000                         5.323950   \n",
       "\n",
       "       avg_nearest_neighbor_distance_B  \n",
       "count                      2572.000000  \n",
       "mean                          3.130684  \n",
       "std                           0.716404  \n",
       "min                           1.424090  \n",
       "25%                           2.665670  \n",
       "50%                           2.949550  \n",
       "75%                           3.560590  \n",
       "max                           5.323950  \n",
       "\n",
       "[8 rows x 96 columns]"
      ]
     },
     "execution_count": 3,
     "metadata": {},
     "output_type": "execute_result"
    }
   ],
   "source": [
    "# Check if there is any missing data using df.info() and df.describe()\n",
    "df.describe()\n",
    "#df.info()"
   ]
  },
  {
   "cell_type": "code",
   "execution_count": 7,
   "metadata": {},
   "outputs": [
    {
     "data": {
      "text/plain": [
       "formulaA                                      0\n",
       "formulaB                                      0\n",
       "formulaA_elements_AtomicVolume                0\n",
       "formulaB_elements_AtomicVolume                0\n",
       "formulaA_elements_AtomicWeight                0\n",
       "formulaB_elements_AtomicWeight                0\n",
       "formulaA_elements_BoilingT                    0\n",
       "formulaB_elements_BoilingT                    0\n",
       "formulaA_elements_BulkModulus                 0\n",
       "formulaB_elements_BulkModulus                 0\n",
       "formulaA_elements_Column                      0\n",
       "formulaB_elements_Column                      0\n",
       "formulaA_elements_CovalentRadius              0\n",
       "formulaB_elements_CovalentRadius              0\n",
       "formulaA_elements_Density                     0\n",
       "formulaB_elements_Density                     0\n",
       "formulaA_elements_ElectronSurfaceDensityWS    0\n",
       "formulaB_elements_ElectronSurfaceDensityWS    0\n",
       "formulaA_elements_Electronegativity           0\n",
       "formulaB_elements_Electronegativity           0\n",
       "formulaA_elements_FirstIonizationEnergy       0\n",
       "formulaB_elements_FirstIonizationEnergy       0\n",
       "formulaA_elements_GSbandgap                   0\n",
       "formulaB_elements_GSbandgap                   0\n",
       "formulaA_elements_GSenergy_pa                 0\n",
       "formulaB_elements_GSenergy_pa                 0\n",
       "formulaA_elements_GSestBCClatcnt              0\n",
       "formulaB_elements_GSestBCClatcnt              0\n",
       "formulaA_elements_GSestFCClatcnt              0\n",
       "formulaB_elements_GSestFCClatcnt              0\n",
       "                                             ..\n",
       "formulaB_elements_NdUnfilled                  0\n",
       "formulaA_elements_NdValence                   0\n",
       "formulaB_elements_NdValence                   0\n",
       "formulaA_elements_NfUnfilled                  0\n",
       "formulaB_elements_NfUnfilled                  0\n",
       "formulaA_elements_NfValence                   0\n",
       "formulaB_elements_NfValence                   0\n",
       "formulaA_elements_NpUnfilled                  0\n",
       "formulaB_elements_NpUnfilled                  0\n",
       "formulaA_elements_NpValence                   0\n",
       "formulaB_elements_NpValence                   0\n",
       "formulaA_elements_NsUnfilled                  0\n",
       "formulaB_elements_NsUnfilled                  0\n",
       "formulaA_elements_NsValence                   0\n",
       "formulaB_elements_NsValence                   0\n",
       "formulaA_elements_Number                      0\n",
       "formulaB_elements_Number                      0\n",
       "formulaA_elements_Polarizability              0\n",
       "formulaB_elements_Polarizability              0\n",
       "formulaA_elements_Row                         0\n",
       "formulaB_elements_Row                         0\n",
       "formulaA_elements_ShearModulus                0\n",
       "formulaB_elements_ShearModulus                0\n",
       "formulaA_elements_SpaceGroupNumber            0\n",
       "formulaB_elements_SpaceGroupNumber            0\n",
       "avg_coordination_A                            0\n",
       "avg_coordination_B                            0\n",
       "avg_nearest_neighbor_distance_A               0\n",
       "avg_nearest_neighbor_distance_B               0\n",
       "stabilityVec                                  0\n",
       "Length: 99, dtype: int64"
      ]
     },
     "execution_count": 7,
     "metadata": {},
     "output_type": "execute_result"
    }
   ],
   "source": [
    "df.isnull().sum()"
   ]
  },
  {
   "cell_type": "markdown",
   "metadata": {},
   "source": [
    "### 3.3 Check Feature Correlations and Drop Highly Correlated Feature"
   ]
  },
  {
   "cell_type": "code",
   "execution_count": 3,
   "metadata": {},
   "outputs": [],
   "source": [
    "# Find if there is any columns are highly correlated.\n",
    "# pandas_profiling.ProfileReport(df)"
   ]
  },
  {
   "cell_type": "code",
   "execution_count": 9,
   "metadata": {},
   "outputs": [],
   "source": [
    "# Drop 13 features which are highly correlated with another feature in dataset. Drop formulaA and formulaB.\n",
    "df_new = df.copy()\n",
    "df_new = df_new.drop(['formulaA_elements_GSbandgap','formulaA_elements_GSestBCClatcnt', 'formulaA_elements_GSvolume_pa',\n",
    "                     'formulaA_elements_ICSDVolume','formulaA_elements_Column', 'formulaA_elements_Number', \n",
    "                      'formulaA_elements_Row','formulaB_elements_GSestBCClatcnt', 'formulaB_elements_GSvolume_pa',\n",
    "                     'formulaB_elements_ICSDVolume','formulaB_elements_Column', 'formulaB_elements_Number',\n",
    "                      'formulaB_elements_Row', 'formulaA', 'formulaB'], axis = 1)"
   ]
  },
  {
   "cell_type": "markdown",
   "metadata": {},
   "source": [
    "### 3.4 Prepare Data into Binary Classification and Multi-label Classification"
   ]
  },
  {
   "cell_type": "code",
   "execution_count": 10,
   "metadata": {},
   "outputs": [],
   "source": [
    "# Step 1. Transform the stability vector [1,0,....,1] into 11 separated columns/classes.\n",
    "# Step 2. For each class, the composition ratio of A:B can be considered as 100, 90, 80, ..., 0. \n",
    "# Extract the ratio of A:B to a separate column and add it to feature dataset (X)\n",
    "# Step 3. Aggregate data to binary classification: generate 'label' with 1 or 0 to each sample.\n",
    "# Step 4. Output three data sets: df contains input X and 11 classes; y_data contains 11 separate classes; \n",
    "# dfc contains input X plus one A:B composition and 1 binary classification label.\n",
    "\n",
    "\n",
    "\n",
    "def binary_composition(df):\n",
    "    #Transform the stablility vector [1,0,....,1] into 11 separated classes.\n",
    "    df['temp'] = df['stabilityVec'].apply(lambda x: x[1:-1].split(','))\n",
    "    for i in range(len(df['temp'][0])):\n",
    "        df['class_' + str(i)] = df['temp'].apply(lambda x: x[i])\n",
    "        df['class_' + str(i)] = df['class_' + str(i)].astype(np.float)\n",
    "    df = df.drop(['temp', 'stabilityVec'], axis = 1)\n",
    "    x_data = df.iloc[:, : -11]\n",
    "    y_data = df.iloc[:, -11:]\n",
    "    y_data = y_data.astype(np.int) #y_data.shape = n samples * 11 classes\n",
    "    \n",
    "    #Extract A/B composition ratio as a separate feature. \n",
    "    dfc = x_data.copy()\n",
    "    for j, col in enumerate(y_data.columns):\n",
    "        dfb = x_data.copy()\n",
    "        dfb[col] = y_data[col]\n",
    "        dfb['B_ratio'] = j * 10\n",
    "        \n",
    "    #generate 'label' with 1 or 0 to each sample\n",
    "        dfb.rename(columns = {col: 'label'}, inplace=True)\n",
    "        dfc = pd.concat([dfb, dfc],ignore_index=True)\n",
    "        dfc.dropna(inplace=True)\n",
    "        dfc['label'] = dfc['label'].astype(np.int)\n",
    "        \n",
    "    # df: 11 classes are separated; y_data: 11 columns represents 11 classes; dfc: binary class labels.\n",
    "    return df, y_data, dfc "
   ]
  },
  {
   "cell_type": "code",
   "execution_count": 11,
   "metadata": {},
   "outputs": [],
   "source": [
    "# df_ml will be used in the 2nd approach for multi-label classification.\n",
    "# y_class has separted 11 columns as 11 classes.\n",
    "# df_bc will be used in the 1st approach which is a pure binary classification case.\n",
    "df_ml, y_class, df_bc = binary_composition(df_new)"
   ]
  },
  {
   "cell_type": "code",
   "execution_count": 14,
   "metadata": {},
   "outputs": [
    {
     "name": "stdout",
     "output_type": "stream",
     "text": [
      "(2572, 94)\n",
      "(2572, 11)\n",
      "(28292, 85)\n"
     ]
    }
   ],
   "source": [
    "print(df_ml.shape) # for multi-label classification\n",
    "print(y_class.shape)\n",
    "print(df_bc.shape) # for binary classification"
   ]
  },
  {
   "cell_type": "code",
   "execution_count": 15,
   "metadata": {},
   "outputs": [
    {
     "data": {
      "text/html": [
       "<div>\n",
       "<style scoped>\n",
       "    .dataframe tbody tr th:only-of-type {\n",
       "        vertical-align: middle;\n",
       "    }\n",
       "\n",
       "    .dataframe tbody tr th {\n",
       "        vertical-align: top;\n",
       "    }\n",
       "\n",
       "    .dataframe thead th {\n",
       "        text-align: right;\n",
       "    }\n",
       "</style>\n",
       "<table border=\"1\" class=\"dataframe\">\n",
       "  <thead>\n",
       "    <tr style=\"text-align: right;\">\n",
       "      <th></th>\n",
       "      <th>B_ratio</th>\n",
       "      <th>avg_coordination_A</th>\n",
       "      <th>avg_coordination_B</th>\n",
       "      <th>avg_nearest_neighbor_distance_A</th>\n",
       "      <th>avg_nearest_neighbor_distance_B</th>\n",
       "      <th>formulaA_elements_AtomicVolume</th>\n",
       "      <th>formulaA_elements_AtomicWeight</th>\n",
       "      <th>formulaA_elements_BoilingT</th>\n",
       "      <th>formulaA_elements_BulkModulus</th>\n",
       "      <th>formulaA_elements_CovalentRadius</th>\n",
       "      <th>...</th>\n",
       "      <th>formulaB_elements_NfUnfilled</th>\n",
       "      <th>formulaB_elements_NfValence</th>\n",
       "      <th>formulaB_elements_NpUnfilled</th>\n",
       "      <th>formulaB_elements_NpValence</th>\n",
       "      <th>formulaB_elements_NsUnfilled</th>\n",
       "      <th>formulaB_elements_NsValence</th>\n",
       "      <th>formulaB_elements_Polarizability</th>\n",
       "      <th>formulaB_elements_ShearModulus</th>\n",
       "      <th>formulaB_elements_SpaceGroupNumber</th>\n",
       "      <th>label</th>\n",
       "    </tr>\n",
       "  </thead>\n",
       "  <tbody>\n",
       "    <tr>\n",
       "      <th>0</th>\n",
       "      <td>100.0</td>\n",
       "      <td>12.0</td>\n",
       "      <td>12.0</td>\n",
       "      <td>3.99462</td>\n",
       "      <td>2.94195</td>\n",
       "      <td>37.433086</td>\n",
       "      <td>227.0</td>\n",
       "      <td>3473.0</td>\n",
       "      <td>0.0</td>\n",
       "      <td>215</td>\n",
       "      <td>...</td>\n",
       "      <td>0</td>\n",
       "      <td>0</td>\n",
       "      <td>0</td>\n",
       "      <td>0</td>\n",
       "      <td>1</td>\n",
       "      <td>1</td>\n",
       "      <td>6.99</td>\n",
       "      <td>30.0</td>\n",
       "      <td>225</td>\n",
       "      <td>1</td>\n",
       "    </tr>\n",
       "    <tr>\n",
       "      <th>1</th>\n",
       "      <td>100.0</td>\n",
       "      <td>12.0</td>\n",
       "      <td>12.0</td>\n",
       "      <td>3.99462</td>\n",
       "      <td>2.85595</td>\n",
       "      <td>37.433086</td>\n",
       "      <td>227.0</td>\n",
       "      <td>3473.0</td>\n",
       "      <td>0.0</td>\n",
       "      <td>215</td>\n",
       "      <td>...</td>\n",
       "      <td>0</td>\n",
       "      <td>0</td>\n",
       "      <td>5</td>\n",
       "      <td>1</td>\n",
       "      <td>0</td>\n",
       "      <td>2</td>\n",
       "      <td>6.80</td>\n",
       "      <td>26.0</td>\n",
       "      <td>225</td>\n",
       "      <td>1</td>\n",
       "    </tr>\n",
       "    <tr>\n",
       "      <th>2</th>\n",
       "      <td>100.0</td>\n",
       "      <td>12.0</td>\n",
       "      <td>3.0</td>\n",
       "      <td>3.99462</td>\n",
       "      <td>2.55790</td>\n",
       "      <td>37.433086</td>\n",
       "      <td>227.0</td>\n",
       "      <td>3473.0</td>\n",
       "      <td>0.0</td>\n",
       "      <td>215</td>\n",
       "      <td>...</td>\n",
       "      <td>0</td>\n",
       "      <td>0</td>\n",
       "      <td>3</td>\n",
       "      <td>3</td>\n",
       "      <td>0</td>\n",
       "      <td>2</td>\n",
       "      <td>4.31</td>\n",
       "      <td>0.0</td>\n",
       "      <td>166</td>\n",
       "      <td>1</td>\n",
       "    </tr>\n",
       "    <tr>\n",
       "      <th>3</th>\n",
       "      <td>100.0</td>\n",
       "      <td>12.0</td>\n",
       "      <td>8.0</td>\n",
       "      <td>3.99462</td>\n",
       "      <td>4.35637</td>\n",
       "      <td>37.433086</td>\n",
       "      <td>227.0</td>\n",
       "      <td>3473.0</td>\n",
       "      <td>0.0</td>\n",
       "      <td>215</td>\n",
       "      <td>...</td>\n",
       "      <td>0</td>\n",
       "      <td>0</td>\n",
       "      <td>0</td>\n",
       "      <td>0</td>\n",
       "      <td>0</td>\n",
       "      <td>2</td>\n",
       "      <td>39.70</td>\n",
       "      <td>4.9</td>\n",
       "      <td>229</td>\n",
       "      <td>1</td>\n",
       "    </tr>\n",
       "    <tr>\n",
       "      <th>4</th>\n",
       "      <td>100.0</td>\n",
       "      <td>12.0</td>\n",
       "      <td>3.0</td>\n",
       "      <td>3.99462</td>\n",
       "      <td>3.11221</td>\n",
       "      <td>37.433086</td>\n",
       "      <td>227.0</td>\n",
       "      <td>3473.0</td>\n",
       "      <td>0.0</td>\n",
       "      <td>215</td>\n",
       "      <td>...</td>\n",
       "      <td>0</td>\n",
       "      <td>14</td>\n",
       "      <td>3</td>\n",
       "      <td>3</td>\n",
       "      <td>0</td>\n",
       "      <td>2</td>\n",
       "      <td>0.40</td>\n",
       "      <td>12.0</td>\n",
       "      <td>12</td>\n",
       "      <td>1</td>\n",
       "    </tr>\n",
       "  </tbody>\n",
       "</table>\n",
       "<p>5 rows × 85 columns</p>\n",
       "</div>"
      ],
      "text/plain": [
       "   B_ratio  avg_coordination_A  avg_coordination_B  \\\n",
       "0    100.0                12.0                12.0   \n",
       "1    100.0                12.0                12.0   \n",
       "2    100.0                12.0                 3.0   \n",
       "3    100.0                12.0                 8.0   \n",
       "4    100.0                12.0                 3.0   \n",
       "\n",
       "   avg_nearest_neighbor_distance_A  avg_nearest_neighbor_distance_B  \\\n",
       "0                          3.99462                          2.94195   \n",
       "1                          3.99462                          2.85595   \n",
       "2                          3.99462                          2.55790   \n",
       "3                          3.99462                          4.35637   \n",
       "4                          3.99462                          3.11221   \n",
       "\n",
       "   formulaA_elements_AtomicVolume  formulaA_elements_AtomicWeight  \\\n",
       "0                       37.433086                           227.0   \n",
       "1                       37.433086                           227.0   \n",
       "2                       37.433086                           227.0   \n",
       "3                       37.433086                           227.0   \n",
       "4                       37.433086                           227.0   \n",
       "\n",
       "   formulaA_elements_BoilingT  formulaA_elements_BulkModulus  \\\n",
       "0                      3473.0                            0.0   \n",
       "1                      3473.0                            0.0   \n",
       "2                      3473.0                            0.0   \n",
       "3                      3473.0                            0.0   \n",
       "4                      3473.0                            0.0   \n",
       "\n",
       "   formulaA_elements_CovalentRadius  ...    formulaB_elements_NfUnfilled  \\\n",
       "0                               215  ...                               0   \n",
       "1                               215  ...                               0   \n",
       "2                               215  ...                               0   \n",
       "3                               215  ...                               0   \n",
       "4                               215  ...                               0   \n",
       "\n",
       "   formulaB_elements_NfValence  formulaB_elements_NpUnfilled  \\\n",
       "0                            0                             0   \n",
       "1                            0                             5   \n",
       "2                            0                             3   \n",
       "3                            0                             0   \n",
       "4                           14                             3   \n",
       "\n",
       "   formulaB_elements_NpValence  formulaB_elements_NsUnfilled  \\\n",
       "0                            0                             1   \n",
       "1                            1                             0   \n",
       "2                            3                             0   \n",
       "3                            0                             0   \n",
       "4                            3                             0   \n",
       "\n",
       "   formulaB_elements_NsValence  formulaB_elements_Polarizability  \\\n",
       "0                            1                              6.99   \n",
       "1                            2                              6.80   \n",
       "2                            2                              4.31   \n",
       "3                            2                             39.70   \n",
       "4                            2                              0.40   \n",
       "\n",
       "   formulaB_elements_ShearModulus  formulaB_elements_SpaceGroupNumber  label  \n",
       "0                            30.0                                 225      1  \n",
       "1                            26.0                                 225      1  \n",
       "2                             0.0                                 166      1  \n",
       "3                             4.9                                 229      1  \n",
       "4                            12.0                                  12      1  \n",
       "\n",
       "[5 rows x 85 columns]"
      ]
     },
     "execution_count": 15,
     "metadata": {},
     "output_type": "execute_result"
    }
   ],
   "source": [
    "# A glance of the processed data.\n",
    "df_bc.head()"
   ]
  },
  {
   "cell_type": "markdown",
   "metadata": {},
   "source": [
    "### 3.5 Data Visualization"
   ]
  },
  {
   "cell_type": "markdown",
   "metadata": {},
   "source": [
    "#### 3.5.1 Class histogram showed imbalanced data nature with positive data only counts for 27%"
   ]
  },
  {
   "cell_type": "markdown",
   "metadata": {},
   "source": [
    "#### There are multiple ways to deal with imbalanced data. Approach used here is upsampling the minority class by SMOTE: Synthetic Minority Over-sampling Technique. After the SMOTE method, in the training data set, the ratio of positive to negative should be 1:1. Here is how this method works:\n",
    "1. Partition the data into training and test data and apply the following two steps on train data ONLY.\n",
    "2. Finding the k-nearest-neighbors for minority class observations in the training data.\n",
    "3. Randomly choosing one of the k-nearest-neighbors and using it to create a similar, but random new observation.\n",
    "\n",
    "#### Another method is to apply 'class_weight='balanced'' when implement the SVM, RF and LR algorithms. The “balanced” mode uses the values of y to automatically adjust weights inversely proportional to class frequencies in the input data as n_samples / (n_classes * np.bincount(y))"
   ]
  },
  {
   "cell_type": "code",
   "execution_count": 16,
   "metadata": {},
   "outputs": [
    {
     "data": {
      "image/png": "[encoded data removed]",
      "text/plain": [
       "<Figure size 1200x1200 with 12 Axes>"
      ]
     },
     "metadata": {},
     "output_type": "display_data"
    }
   ],
   "source": [
    "# All 11 classes histogram\n",
    "y_class.hist(figsize = (12, 12));"
   ]
  },
  {
   "cell_type": "code",
   "execution_count": 17,
   "metadata": {},
   "outputs": [
    {
     "name": "stdout",
     "output_type": "stream",
     "text": [
      "27.0% data is positive.\n"
     ]
    }
   ],
   "source": [
    "positive_ratio = len(df_bc[df_bc['label'] == 1])/len(df_bc) * 100\n",
    "print('{}% data is positive.'.format(np.round(positive_ratio), 3))"
   ]
  },
  {
   "cell_type": "markdown",
   "metadata": {},
   "source": [
    "#### 3.5.2 Heatmap showed no correlation between different classes"
   ]
  },
  {
   "cell_type": "code",
   "execution_count": 18,
   "metadata": {},
   "outputs": [
    {
     "data": {
      "image/png": "[encoded data removed]",
      "text/plain": [
       "<Figure size 800x800 with 2 Axes>"
      ]
     },
     "metadata": {},
     "output_type": "display_data"
    }
   ],
   "source": [
    "# 9 classes correlation coefficients showed all classes are not correlated\n",
    "colormap = plt.cm.plasma\n",
    "plt.figure(figsize=(8,8))\n",
    "plt.title('Correlation of Class Labels',y=1,size=14)\n",
    "sns.heatmap(y_class.iloc[:,1:10].astype(float).corr(),linewidths=0.1,vmax=1.0,square=True,cmap=colormap,\n",
    "           linecolor='white',annot=True);"
   ]
  },
  {
   "cell_type": "code",
   "execution_count": 4,
   "metadata": {},
   "outputs": [],
   "source": [
    "# pandas_profiling.ProfileReport(df_bc)"
   ]
  },
  {
   "cell_type": "markdown",
   "metadata": {},
   "source": [
    "#### 3.5.3  Dimensionality Reduction by Principal Component Analysis"
   ]
  },
  {
   "cell_type": "markdown",
   "metadata": {},
   "source": [
    "The dataset has 84 features. Thus, I use PCA to transform this high dimensional data to lower dimensional space to visualize the variation and check if I can select a few features for model prediction.\n",
    "\n",
    "As indicated from the following figure, the first principal component only accounts for 10 percent of the variance. Also, we can see that the first ten principal components combined explain around 60 percent of the variance in the data."
   ]
  },
  {
   "cell_type": "code",
   "execution_count": 20,
   "metadata": {},
   "outputs": [],
   "source": [
    "from sklearn.decomposition import PCA \n",
    "from sklearn.preprocessing import StandardScaler\n",
    "\n",
    "def pca(X_data):\n",
    "    pca = PCA(n_components = 20)\n",
    "    # nomralize the feature scales before applying PCA\n",
    "    scaler = StandardScaler()\n",
    "    X_data_std = scaler.fit_transform(X_data)\n",
    "    \n",
    "    pca.fit_transform(X_data_std)\n",
    "    ratio = pca.explained_variance_ratio_\n",
    "    plt.figure(figsize = (6,4))\n",
    "    plt.bar(range(1,21), ratio, alpha=0.5, align='center')\n",
    "    plt.step(range(1,21), np.cumsum(ratio), color = 'orange', where='mid')\n",
    "    plt.ylabel('Explained variance ratio')\n",
    "    plt.xlabel('Principal components')\n",
    "    plt.show()"
   ]
  },
  {
   "cell_type": "code",
   "execution_count": 21,
   "metadata": {},
   "outputs": [
    {
     "data": {
      "image/png": "[encoded data removed]",
      "text/plain": [
       "<Figure size 600x400 with 1 Axes>"
      ]
     },
     "metadata": {},
     "output_type": "display_data"
    }
   ],
   "source": [
    "X = df_bc.drop(['label'], axis = 1)\n",
    "pca(X)"
   ]
  },
  {
   "cell_type": "markdown",
   "metadata": {},
   "source": [
    "## 4. Metric Selection - F1"
   ]
  },
  {
   "cell_type": "markdown",
   "metadata": {},
   "source": [
    "#### Accuracy: For this imbalanced data problem, it is very easy to get a high accuracy score because it tends to predict the majority class. Thus it is not a good metric.\n",
    "#### Precision: precision = True Positive/(True Positive + False Positive), is used if we do not want to misclassify negative samples.  For example, for scam detection, we do not want to misclassify non-scam (negative) emails and miss any non-scam emails. \n",
    "#### Recall: recall = True Positive/(True Positive + False Negative), is used if we do not want risk missing any true positives. For example, in tumor detection, we care more about detecting the malignant becuase missing that will be detrimental to cancer patients. \n",
    "#### F1 score: f1 = 2 * precision * recall/(precision + recall) takes consideration of both precision and recall. In our case, if our customer want to invest in making a new compound, we care both precision and recall thus F1 score is chosen for the metric.\n",
    "#### ROC, AUC and Confusion Matrix are also referred as a metric below."
   ]
  },
  {
   "cell_type": "markdown",
   "metadata": {},
   "source": [
    "## 5. Approach I : Binary Classification"
   ]
  },
  {
   "cell_type": "markdown",
   "metadata": {},
   "source": [
    "### 5.1 Prepare Input Feature X and Label Y"
   ]
  },
  {
   "cell_type": "code",
   "execution_count": 22,
   "metadata": {},
   "outputs": [
    {
     "name": "stdout",
     "output_type": "stream",
     "text": [
      "No. of features:  84\n",
      "X dimension: (28292, 84)\n",
      "y dimension: (28292,)\n"
     ]
    }
   ],
   "source": [
    "# Prepare training dataset with features (X) and labels (Y) for binary classification\n",
    "X = df_bc.drop(['label'], axis = 1)\n",
    "y = df_bc['label']\n",
    "print('No. of features: ',len(X.columns))\n",
    "print('X dimension:', X.shape)\n",
    "print('y dimension:', y.shape)"
   ]
  },
  {
   "cell_type": "markdown",
   "metadata": {},
   "source": [
    "### 5.2 Model Evaluation with Logistic Regression(LR), SVM,  Random Forest(RF) and Gradient Boosting Decision Trees(GBDT)"
   ]
  },
  {
   "cell_type": "markdown",
   "metadata": {},
   "source": [
    "### LR showed worst perfomance, and GBDT is the best.\n",
    "\n",
    "1. Since data is imbalanced, I add 'class_weight = 'balanced'' into traing algorithms.\n",
    "\n",
    "2. Logistic regression did not perform well because it does not handle high dimentional data very well and plus the data is not linearly sparatable. \n",
    "\n",
    "3. For SVM, there are two kernels to use, 'linear' Vs. 'rbf'. Since we have high dimentional features and PCA already showed the high variance accross all features, thus we could understand the linear kernel probably will not work well. 'rbf' is a gaussian kernel which map the original features to a different feature space using a gaussian function. There are two parameters to tune here. 'C' is the regularization parameter and 'gamma' is the kernel parameter which represents how wide the gaussian kernel. Usually large C indicates less regularization and tends to overfit the training data; large gamma indicates narrower guassian kernel and tends to overfit the training data. Since SVM showed promising performance compared to RF and GBDT, I will do a fine hyperparameter tunning for SVM to get the best model. \n",
    "\n",
    "4. Random forest outperformed SVM. We can get feature importance from this model and usually there is no need to fine tune the hyperparameters. It is less prone to overfit the data since it is an ensemble method.\n",
    "\n",
    "5. Gradient boosting decision trees performed the best with high F1 score. The algorithm is built upon a series of small decision trees and each tree is attempted to correct errors from the earlier stage. The hyperparameters includes no. of trees, learning rates and max depth. Learning rate controls how hard each new tree tries to correct remaining mistakes from previous round. Usually high learning rates means more complex trees and low learning rate means simpler trees. The model does require a lot of computation compared to other models and it will not perform well on high dimensional sparse feature. And this could be the reason why it did not perform as well as random forest in the 2nd approach where I have to train each class as a separate classifier. \n"
   ]
  },
  {
   "cell_type": "code",
   "execution_count": 76,
   "metadata": {},
   "outputs": [],
   "source": [
    "from sklearn.model_selection import train_test_split\n",
    "from sklearn.linear_model import LogisticRegression\n",
    "from sklearn.svm import SVC\n",
    "from sklearn.preprocessing import StandardScaler\n",
    "from sklearn.multiclass import OneVsRestClassifier\n",
    "from sklearn.metrics import accuracy_score, precision_score, recall_score, f1_score, confusion_matrix\n",
    "from sklearn.metrics import auc, roc_curve, classification_report\n",
    "from sklearn.ensemble import RandomForestClassifier, GradientBoostingClassifier\n",
    "from sklearn.base import clone\n",
    "from sklearn.model_selection import StratifiedKFold\n",
    "\n",
    "# Construct the binary classification class to test on different models:\n",
    "\n",
    "# Step 1: initialize global parameters\n",
    "# Step 2: partition the train and test set with 3:1 raio and all samples should be randomized before split\n",
    "# Step 3: standardize the features (both train and test) using StandardScaler which standardizes each features \n",
    "# to gaussian distribution with mean at 0 and unit variance.\n",
    "# Step 4: Fit the training data and use F1 score as metric. \n",
    "\n",
    "\n",
    "class BinaryClassification():\n",
    "    def __init__(self, estimator, scoring = [precision_score, recall_score,f1_score], \n",
    "                 test_size = 0.25, random_state = 1):\n",
    "        self.scoring = scoring\n",
    "        self.estimator = clone(estimator)\n",
    "        self.test_size = test_size\n",
    "        self.random_state = random_state\n",
    "        \n",
    "    def standardization(self, X_train, X_test):\n",
    "        # Normalize data into normal distributed with mean at 0 and unit variance.\n",
    "        scaler = StandardScaler()\n",
    "        # Only fit on the training data\n",
    "        X_train_scaled = scaler.fit_transform(X_train)\n",
    "        X_test_scaled = scaler.transform(X_test)\n",
    "        return X_train_scaled, X_test_scaled   \n",
    "\n",
    "        \n",
    "    def fit(self, X, y):\n",
    "        # Split train and test set\n",
    "        X_train, X_test, y_train, y_test = train_test_split(X, y, \n",
    "                        test_size = self.test_size,random_state=self.random_state,shuffle = True,stratify = y)\n",
    "        \n",
    "        X_train_scaled, X_test_scaled = self.standardization(X_train, X_test)\n",
    "        \n",
    "        scores = self._calc_score(X_train_scaled, y_train, \n",
    "                                 X_test_scaled, y_test)\n",
    "        \n",
    "        self.scores_ = {'Precision': np.round(scores[0], 3),'Recall': np.round(scores[1], 3),\n",
    "                        'F1': np.round(scores[2], 3)}\n",
    "        return self\n",
    "\n",
    "    \n",
    "    def _calc_score(self, X_train_scaled, y_train, X_test_scaled, y_test):\n",
    "        # fit training data\n",
    "        self.estimator.fit(X_train_scaled, y_train)\n",
    "        # predict the test set\n",
    "        y_pred = self.estimator.predict(X_test_scaled)\n",
    "        # record precision, recall, F1 scores\n",
    "        scores = []\n",
    "        for score_type in self.scoring:\n",
    "            score = score_type(y_test, y_pred)\n",
    "            scores.append(score)\n",
    "            \n",
    "        return scores\n",
    "    \n",
    "    def roc_cm(self, X, y):\n",
    "        X_train, X_test, y_train, y_test = train_test_split(X, y, \n",
    "                        test_size = self.test_size,random_state=self.random_state,shuffle = True,stratify = y)\n",
    "        \n",
    "        X_train_scaled, X_test_scaled = self.standardization(X_train, X_test)     \n",
    "        self.estimator.fit(X_train_scaled, y_train)\n",
    "    \n",
    "        y_pred_rf = self.estimator.predict_proba(X_test_scaled)\n",
    "        y_pred = self.estimator.predict(X_test_scaled)\n",
    "\n",
    "        # get fpr, tpr and thresholds to draw ROC curve\n",
    "        fpr, tpr, thresholds = roc_curve(y_test,y_pred_rf[:, 1],pos_label=1)\n",
    "        roc_auc = auc(fpr,tpr)\n",
    "\n",
    "        # Plot ROC\n",
    "        plt.figure(figsize = (6, 4))\n",
    "        plt.title('Receiver Operating Characteristic')\n",
    "        plt.plot(fpr, tpr, 'b',label='AUC = %0.3f'% roc_auc)\n",
    "        plt.legend(loc='lower right')\n",
    "        plt.plot([0,1],[0,1],'r--')\n",
    "        plt.xlim([-0.1,1.0])\n",
    "        plt.ylim([-0.1,1.01])\n",
    "        plt.ylabel('True Positive Rate')\n",
    "        plt.xlabel('False Positive Rate')\n",
    "        plt.show()\n",
    "        \n",
    "        # Plot Confusion Matrix\n",
    "        confusionMatrix = confusion_matrix(y_true=y_test, y_pred=y_pred)\n",
    "        \n",
    "        fig, ax = plt.subplots(figsize=(3, 3))\n",
    "        ax.matshow(confusionMatrix, cmap=plt.cm.Blues, alpha=0.3)\n",
    "        for i in range(confusionMatrix.shape[0]):\n",
    "            for j in range(confusionMatrix.shape[1]):\n",
    "                ax.text(x=j, y=i, s=confusionMatrix[i, j], va='center', ha='center')\n",
    "                \n",
    "        plt.title('Confusion Matrix', y = 1.2)\n",
    "        plt.xlabel('Predicted label')\n",
    "        plt.ylabel('True label')\n",
    "        plt.show()\n",
    "            "
   ]
  },
  {
   "cell_type": "code",
   "execution_count": 28,
   "metadata": {},
   "outputs": [
    {
     "name": "stdout",
     "output_type": "stream",
     "text": [
      "Logistic Regression: {'Precision': 0.329, 'Recall': 0.592, 'F1': 0.423}\n"
     ]
    }
   ],
   "source": [
    "# Logistic Regression: Add regularization term L1 with C 0.1 here. Other parameters were tested but no improvement\n",
    "lr = LogisticRegression(penalty = 'l1', C = 0.1,class_weight='balanced')\n",
    "lr_clf = BinaryClassification(lr)\n",
    "lr_clf.fit(X, y)\n",
    "print('Logistic Regression:', lr_clf.scores_)"
   ]
  },
  {
   "cell_type": "code",
   "execution_count": 29,
   "metadata": {},
   "outputs": [
    {
     "name": "stdout",
     "output_type": "stream",
     "text": [
      "SVM: {'Precision': 0.423, 'Recall': 0.61, 'F1': 0.5}\n"
     ]
    }
   ],
   "source": [
    "# SVM with rbf kernel: Improved performance based on LR and a little worse than RF.\n",
    "# Next step: fine tune hyperparameters and find out the best SVM model.\n",
    "svm = SVC(kernel = 'rbf', C = 1, gamma=0.01,class_weight='balanced')\n",
    "svm_clf = BinaryClassification(svm)\n",
    "svm_clf.fit(X, y)\n",
    "print('SVM:', svm_clf.scores_)"
   ]
  },
  {
   "cell_type": "code",
   "execution_count": 30,
   "metadata": {},
   "outputs": [
    {
     "name": "stdout",
     "output_type": "stream",
     "text": [
      "Random Forest: {'Precision': 0.723, 'Recall': 0.692, 'F1': 0.707}\n"
     ]
    }
   ],
   "source": [
    "# Random forest showed good F1 score\n",
    "forest = RandomForestClassifier(n_estimators=500, class_weight='balanced')\n",
    "forest_clf = BinaryClassification(forest)\n",
    "forest_clf.fit(X, y)\n",
    "print('Random Forest:',forest_clf.scores_)"
   ]
  },
  {
   "cell_type": "code",
   "execution_count": 19,
   "metadata": {},
   "outputs": [
    {
     "name": "stdout",
     "output_type": "stream",
     "text": [
      "Gradient Boosting Decision Trees: {'Precision': 0.938, 'Recall': 0.783, 'F1': 0.853}\n"
     ]
    }
   ],
   "source": [
    "# GBDT showed best F1 score so far\n",
    "# Next step: fine tune hyperparameters\n",
    "GBDT = GradientBoostingClassifier(n_estimators=500)\n",
    "GBDT_clf = BinaryClassification(GBDT)\n",
    "GBDT_clf.fit(X, y)\n",
    "print('Gradient Boosting Decision Trees:',GBDT_clf.scores_)"
   ]
  },
  {
   "cell_type": "markdown",
   "metadata": {},
   "source": [
    "### 5.3  Model Selection: Hyperparameter Tuning on SVM and Gradient Boosting Decision Trees"
   ]
  },
  {
   "cell_type": "markdown",
   "metadata": {},
   "source": [
    "#### GBDT with F1 score of 0.86 outperforms both SVM and Random Forest. "
   ]
  },
  {
   "cell_type": "markdown",
   "metadata": {},
   "source": [
    "#### 5.3.1 SVM\n",
    "\n",
    "1. Using 5 fold cross validation to find best hyperparameters for SVM with F1 0.643: {'C': 100, 'gamma': 0.01, 'kernel': 'rbf'}\n",
    "2. Other than F1 score, also refer to ROC curve and Area Under Curve(AUC) for model evaluation. "
   ]
  },
  {
   "cell_type": "code",
   "execution_count": 32,
   "metadata": {},
   "outputs": [],
   "source": [
    "from sklearn.model_selection import StratifiedKFold\n",
    "\n",
    "# Goal: Find best hyperparameter for SVM\n",
    "# Step1: standardize both traing and test data\n",
    "# Step2: for different combonination of C, gamma and kernel, print all precicision and recall\n",
    "# Step3: find the best parameter for SVM.\n",
    "\n",
    "class modelSelection_SVM():\n",
    "    def __init__(self, scoring = [precision_score, recall_score,f1_score], test_size = 0.25, random_state =1):\n",
    "        self.scoring = scoring\n",
    "        self.test_size = test_size\n",
    "        self.random_state = random_state\n",
    "        \n",
    "    def standardization(self, X_train, X_test):\n",
    "        scaler = StandardScaler()\n",
    "        X_train_scaled = scaler.fit_transform(X_train)\n",
    "        X_test_scaled = scaler.transform(X_test)\n",
    "        return X_train_scaled, X_test_scaled\n",
    "\n",
    "    def gridSearch(self, X, y, C = [0.001, 0.01, 0.1, 1, 10, 100], gamma = [0.001, 0.01, 0.1, 1, 10, 100]):\n",
    "        X_train, X_test, y_train, y_test = train_test_split(X, y, \n",
    "                        test_size = 0.25, random_state = 1, shuffle = True,stratify = y)\n",
    "\n",
    "        X_train_scaled, X_test_scaled = self.standardization(X_train, X_test)\n",
    "        \n",
    "        # grid serach all C and gamma combinations: 6 x 6 = 36 fittings\n",
    "        for c in C:\n",
    "            for g in gamma:        \n",
    "                clf = SVC(C = c, gamma = g, class_weight='balanced', kernel = 'rbf') \n",
    "                clf.fit(X_train_scaled, y_train)\n",
    "                y_pred = clf.predict(X_test_scaled)\n",
    "\n",
    "                precision = precision_score(y_test, y_pred)\n",
    "                recall = recall_score(y_test, y_pred)\n",
    "                f1 = f1_score(y_test, y_pred)\n",
    "                print('C: %.3f, gamma: %.3f, precision: %.3f, recall: %.3f, F1: %.3f' % \n",
    "                        (c, g, precision, recall, f1))               \n",
    "\n",
    "    def kFold(self, X, y, cv, c = None, gamma = None):\n",
    "        # randomize the sample\n",
    "        m = np.random.permutation(X.index)\n",
    "        X = X.reindex(m)\n",
    "        y = y.reindex(m)\n",
    "        \n",
    "        # split X and y into k fold for test and validation\n",
    "        kfold = list(StratifiedKFold(n_splits=cv, random_state=1).split(X, y))\n",
    "        \n",
    "        # store scores into dictionary\n",
    "        scores = {i+1: [] for i in range(cv)}\n",
    "\n",
    "        for k, (train, test) in enumerate(kfold):\n",
    "            best_estimator = SVC(C = c, gamma = gamma, class_weight='balanced', kernel = 'rbf') \n",
    "            X_train, X_test = self.standardization(X.iloc[train], X.iloc[test])\n",
    "            clf = best_estimator.fit(X_train, y.iloc[train])\n",
    "            y_pred = clf.predict(X_test)\n",
    "            for score in self.scoring:\n",
    "                scores[k+1].append(score(y.iloc[test], y_pred))\n",
    "\n",
    "            print('Fold: %2d, Class dist.: %s, precision: %.3f, recall: %.3f, F1: %.3f' % (k+1,\n",
    "                        np.bincount(y.iloc[train]), scores[k+1][0], scores[k+1][1], scores[k+1][2]))\n",
    "\n",
    "        print('\\nCV precision: %.3f +/- %.3f' % (np.mean([scores[i+1][0] for i in range(cv)]), \n",
    "                                                 np.std([scores[i+1][0] for i in range(cv)])))\n",
    "        print('CV recall: %.3f +/- %.3f' % (np.mean([scores[i+1][1] for i in range(cv)]), \n",
    "                                                 np.std([scores[i+1][1] for i in range(cv)])))\n",
    "        print('CV F1: %.3f +/- %.3f' % (np.mean([scores[i+1][2] for i in range(cv)]), \n",
    "                                                 np.std([scores[i+1][2] for i in range(cv)])))\n",
    "\n",
    "    def ROC(self, X, y, c=None, gamma=None):\n",
    "        best_estimator = SVC(C = c, gamma = gamma, class_weight='balanced', kernel = 'rbf') \n",
    "        X_train, X_test, y_train, y_test = train_test_split(X, y, \n",
    "                        test_size = 0.25, random_state = 1, shuffle = True,stratify = y)\n",
    "\n",
    "        X_train_scaled, X_test_scaled = self.standardization(X_train, X_test)\n",
    "        best_estimator.fit(X_train_scaled, y_train)\n",
    "        y_pred_score = best_estimator.decision_function(X_test_scaled)\n",
    "        fpr, tpr, thresholds = roc_curve(y_test, y_pred_score, pos_label=1 )\n",
    "\n",
    "        roc_auc = auc(fpr,tpr)\n",
    "\n",
    "        # Plot ROC\n",
    "        plt.figure(figsize = (6, 4))\n",
    "        plt.title('Receiver Operating Characteristic--SVM')\n",
    "        plt.plot(fpr, tpr, 'b',label='AUC = %0.3f'% roc_auc)\n",
    "        plt.legend(loc='lower right')\n",
    "        plt.plot([0,1],[0,1],'r--')\n",
    "        plt.xlim([0,1.0])\n",
    "        plt.ylim([-0.1,1.01])\n",
    "        plt.ylabel('True Positive Rate')\n",
    "        plt.xlabel('False Positive Rate')\n",
    "        plt.show()"
   ]
  },
  {
   "cell_type": "code",
   "execution_count": 111,
   "metadata": {},
   "outputs": [
    {
     "name": "stdout",
     "output_type": "stream",
     "text": [
      "C: 0.001, gamma: 0.001, precision: 0.270, recall: 1.000, F1: 0.425\n",
      "C: 0.001, gamma: 0.010, precision: 0.270, recall: 1.000, F1: 0.425\n",
      "C: 0.001, gamma: 0.100, precision: 0.270, recall: 1.000, F1: 0.425\n",
      "C: 0.001, gamma: 1.000, precision: 0.270, recall: 1.000, F1: 0.425\n",
      "C: 0.001, gamma: 10.000, precision: 0.270, recall: 1.000, F1: 0.425\n",
      "C: 0.001, gamma: 100.000, precision: 0.270, recall: 1.000, F1: 0.425\n",
      "C: 0.010, gamma: 0.001, precision: 0.270, recall: 1.000, F1: 0.425\n",
      "C: 0.010, gamma: 0.010, precision: 0.325, recall: 0.683, F1: 0.440\n",
      "C: 0.010, gamma: 0.100, precision: 0.270, recall: 1.000, F1: 0.425\n",
      "C: 0.010, gamma: 1.000, precision: 0.270, recall: 1.000, F1: 0.425\n",
      "C: 0.010, gamma: 10.000, precision: 0.270, recall: 1.000, F1: 0.425\n",
      "C: 0.010, gamma: 100.000, precision: 0.270, recall: 1.000, F1: 0.425\n",
      "C: 0.100, gamma: 0.001, precision: 0.320, recall: 0.651, F1: 0.429\n",
      "C: 0.100, gamma: 0.010, precision: 0.344, recall: 0.644, F1: 0.448\n",
      "C: 0.100, gamma: 0.100, precision: 0.324, recall: 0.559, F1: 0.410\n",
      "C: 0.100, gamma: 1.000, precision: 0.279, recall: 0.580, F1: 0.377\n",
      "C: 0.100, gamma: 10.000, precision: 0.270, recall: 1.000, F1: 0.425\n",
      "C: 0.100, gamma: 100.000, precision: 0.270, recall: 1.000, F1: 0.425\n",
      "C: 1.000, gamma: 0.001, precision: 0.332, recall: 0.650, F1: 0.439\n",
      "C: 1.000, gamma: 0.010, precision: 0.423, recall: 0.610, F1: 0.500\n",
      "C: 1.000, gamma: 0.100, precision: 0.309, recall: 0.438, F1: 0.362\n",
      "C: 1.000, gamma: 1.000, precision: 0.223, recall: 0.313, F1: 0.260\n",
      "C: 1.000, gamma: 10.000, precision: 0.186, recall: 0.090, F1: 0.121\n",
      "C: 1.000, gamma: 100.000, precision: 0.000, recall: 0.000, F1: 0.000\n",
      "C: 10.000, gamma: 0.001, precision: 0.365, recall: 0.627, F1: 0.461\n",
      "C: 10.000, gamma: 0.010, precision: 0.529, recall: 0.730, F1: 0.613\n",
      "C: 10.000, gamma: 0.100, precision: 0.327, recall: 0.419, F1: 0.367\n",
      "C: 10.000, gamma: 1.000, precision: 0.249, recall: 0.198, F1: 0.220\n",
      "C: 10.000, gamma: 10.000, precision: 0.176, recall: 0.074, F1: 0.105\n",
      "C: 10.000, gamma: 100.000, precision: 0.000, recall: 0.000, F1: 0.000\n",
      "C: 100.000, gamma: 0.001, precision: 0.533, recall: 0.736, F1: 0.618\n",
      "C: 100.000, gamma: 0.010, precision: 0.578, recall: 0.725, F1: 0.643\n",
      "C: 100.000, gamma: 0.100, precision: 0.410, recall: 0.389, F1: 0.399\n",
      "C: 100.000, gamma: 1.000, precision: 0.211, recall: 0.173, F1: 0.190\n",
      "C: 100.000, gamma: 10.000, precision: 0.176, recall: 0.074, F1: 0.105\n",
      "C: 100.000, gamma: 100.000, precision: 0.000, recall: 0.000, F1: 0.000\n"
     ]
    }
   ],
   "source": [
    "model = modelSelection_SVM()\n",
    "model.gridSearch(X, y)"
   ]
  },
  {
   "cell_type": "code",
   "execution_count": 88,
   "metadata": {},
   "outputs": [
    {
     "name": "stdout",
     "output_type": "stream",
     "text": [
      "Fold:  1, Class dist.: [16524  6109], precision: 0.573, recall: 0.724, F1: 0.640\n",
      "Fold:  2, Class dist.: [16524  6109], precision: 0.561, recall: 0.745, F1: 0.640\n",
      "Fold:  3, Class dist.: [16524  6110], precision: 0.572, recall: 0.739, F1: 0.645\n",
      "Fold:  4, Class dist.: [16524  6110], precision: 0.570, recall: 0.724, F1: 0.638\n",
      "Fold:  5, Class dist.: [16524  6110], precision: 0.543, recall: 0.722, F1: 0.620\n",
      "\n",
      "CV precision: 0.564 +/- 0.011\n",
      "CV recall: 0.731 +/- 0.009\n",
      "CV F1: 0.637 +/- 0.009\n"
     ]
    }
   ],
   "source": [
    "# K fold cross validataion showed the average F1 score is 0.637 for SVM. Till now, I found the \n",
    "# best hyparameters for SVM, which is: C=100, gamma=0.01 and F1: 0.637 +/- 0.009\n",
    "model = modelSelection_SVM()\n",
    "model.kFold(X, y, cv = 5, c = 100.0, gamma = 0.01)"
   ]
  },
  {
   "cell_type": "code",
   "execution_count": 33,
   "metadata": {},
   "outputs": [
    {
     "data": {
      "image/png": "[encoded data removed]",
      "text/plain": [
       "<Figure size 600x400 with 1 Axes>"
      ]
     },
     "metadata": {},
     "output_type": "display_data"
    }
   ],
   "source": [
    "# Plot ROC curve and get AUC 0.823, not that bad. Ideally we want the blue curve to be as further away from the\n",
    "# red curve as possible and best AUC score would be 1.0 in this case. Red curve represent random guess (50% chance)\n",
    "model = modelSelection_SVM()\n",
    "model.ROC(X, y, c = 100, gamma = 0.01 )"
   ]
  },
  {
   "cell_type": "markdown",
   "metadata": {},
   "source": [
    "#### 5.3.2 RF"
   ]
  },
  {
   "cell_type": "code",
   "execution_count": 35,
   "metadata": {},
   "outputs": [
    {
     "data": {
      "image/png": "[encoded data removed]",
      "text/plain": [
       "<Figure size 600x400 with 1 Axes>"
      ]
     },
     "metadata": {},
     "output_type": "display_data"
    },
    {
     "data": {
      "image/png": "[encoded data removed]",
      "text/plain": [
       "<Figure size 300x300 with 1 Axes>"
      ]
     },
     "metadata": {},
     "output_type": "display_data"
    }
   ],
   "source": [
    "# Plot Random Froest ROC and Confusion Matrix\n",
    "# AUC is improved and the ROC curve looks better than SVM\n",
    "forest = RandomForestClassifier(n_estimators=1000, class_weight='balanced')\n",
    "forest_clf = BinaryClassification(forest)\n",
    "forest_clf.roc_cm(X, y)"
   ]
  },
  {
   "cell_type": "markdown",
   "metadata": {},
   "source": [
    "#### 5.3.3 Gradient Boosting Decision Trees(GBDT)"
   ]
  },
  {
   "cell_type": "code",
   "execution_count": 34,
   "metadata": {},
   "outputs": [],
   "source": [
    "# Build a grid search function to search for best hyperparameter for GBDT\n",
    "\n",
    "\n",
    "def GBDT(n_trees , depth , rate , X, y):\n",
    "    X_train, X_test, y_train, y_test = train_test_split(X, y, \n",
    "                        test_size = 0.25, random_state = 1, shuffle = True, stratify = y)\n",
    "    \n",
    "    # store scores into dictionary\n",
    "    scores = {}\n",
    "    # grid search all combinations of no. of trees, learning rate and max depth: 2 x 4 x 3 = 24 fittings\n",
    "    for n in n_trees:\n",
    "        for r in rate:\n",
    "            for d in depth:\n",
    "                clf = GradientBoostingClassifier(n_estimators = n, max_depth = d, learning_rate = r)\n",
    "                clf.fit(X_train, y_train)\n",
    "                y_pred = clf.predict(X_test)\n",
    "                scores[(n, r, d)] = f1_score(y_test, y_pred)\n",
    "                #print(scores)\n",
    "                \n",
    "    # initialize the maximum F1 score to 0\n",
    "    fmax = 0\n",
    "    best_para = []\n",
    "    \n",
    "    # find the best F1 score out of the parameter grid\n",
    "    for k, v in scores.items():\n",
    "        if v > fmax:\n",
    "            fmax = v\n",
    "            best_para = [n, r, d]\n",
    "            \n",
    "    print ('Gradient Boosting Classifier best hyperparameters: n_estimators: %d, learing_rate: %.2f,\\\n",
    "           max_depth: %d, F1 Score: %.3f'% (best_para[0], best_para[1], best_para[2], fmax ))"
   ]
  },
  {
   "cell_type": "code",
   "execution_count": 32,
   "metadata": {},
   "outputs": [
    {
     "name": "stdout",
     "output_type": "stream",
     "text": [
      "Gradient Boosting Classifier best hyperparameters: n_estimators: 1000, learing_rate: 1.00,           max_depth: 8, F1 Score: 0.867\n"
     ]
    }
   ],
   "source": [
    "GBDT(n_trees = [500, 1000], depth = [1,3,5,8], rate = [0.01, 0.1,1], X=X, y=y)"
   ]
  },
  {
   "cell_type": "code",
   "execution_count": 36,
   "metadata": {},
   "outputs": [
    {
     "data": {
      "image/png": "[encoded data removed]",
      "text/plain": [
       "<Figure size 600x400 with 1 Axes>"
      ]
     },
     "metadata": {},
     "output_type": "display_data"
    },
    {
     "data": {
      "image/png": "[encoded data removed]",
      "text/plain": [
       "<Figure size 300x300 with 1 Axes>"
      ]
     },
     "metadata": {},
     "output_type": "display_data"
    }
   ],
   "source": [
    "# Plot GBDT ROC and Confusion Matrix\n",
    "# Till now, the model is fine tuned and best parameter for GBDT was found: n_estimators = 1000, max_depth = 5, \n",
    "# learning_rate = 0.1. ROC curve looks very good with AUC 0.97.\n",
    "gbdt = GradientBoostingClassifier(n_estimators = 1000, max_depth = 5, learning_rate = 0.1)\n",
    "gbdt_clf = BinaryClassification(gbdt)\n",
    "gbdt_clf.roc_cm(X, y)"
   ]
  },
  {
   "cell_type": "markdown",
   "metadata": {},
   "source": [
    "## 6. Binary Classification Summary"
   ]
  },
  {
   "cell_type": "markdown",
   "metadata": {},
   "source": [
    "### Gradient Boosting Decision Trees performed better than SVM and Random Forest models in terms of F1 score. After fine tuning the SVM model, both precision and recall is improved but still not as good as GBDT. Thus, GBDT is selected to predict the test dataset.\n",
    "\n",
    "### Final Results:\n",
    "#### Gradient Boosting Decision Trees: {'Precision': 0.938, 'Recall': 0.783, 'F1': 0.853}, AUC: 0.97\n",
    "#### Random Forest: {'Precision': 0.727, 'Recall': 0.709, 'F1': 0.718}, AUC: 0.87\n",
    "#### SVM with rbf kernel: {'Precision': 0.573, 'Recall': 0.724, 'F1': 0.640}, AUC: 0.82"
   ]
  },
  {
   "cell_type": "markdown",
   "metadata": {},
   "source": [
    "## 7. Binary Classification Test Data Prediction"
   ]
  },
  {
   "cell_type": "code",
   "execution_count": 37,
   "metadata": {},
   "outputs": [],
   "source": [
    "# Load Test Data\n",
    "test= pd.read_csv('test_data.csv')"
   ]
  },
  {
   "cell_type": "code",
   "execution_count": 38,
   "metadata": {},
   "outputs": [
    {
     "data": {
      "text/html": [
       "<div>\n",
       "<style scoped>\n",
       "    .dataframe tbody tr th:only-of-type {\n",
       "        vertical-align: middle;\n",
       "    }\n",
       "\n",
       "    .dataframe tbody tr th {\n",
       "        vertical-align: top;\n",
       "    }\n",
       "\n",
       "    .dataframe thead th {\n",
       "        text-align: right;\n",
       "    }\n",
       "</style>\n",
       "<table border=\"1\" class=\"dataframe\">\n",
       "  <thead>\n",
       "    <tr style=\"text-align: right;\">\n",
       "      <th></th>\n",
       "      <th>formulaA</th>\n",
       "      <th>formulaB</th>\n",
       "      <th>formulaA_elements_AtomicVolume</th>\n",
       "      <th>formulaB_elements_AtomicVolume</th>\n",
       "      <th>formulaA_elements_AtomicWeight</th>\n",
       "      <th>formulaB_elements_AtomicWeight</th>\n",
       "      <th>formulaA_elements_BoilingT</th>\n",
       "      <th>formulaB_elements_BoilingT</th>\n",
       "      <th>formulaA_elements_BulkModulus</th>\n",
       "      <th>formulaB_elements_BulkModulus</th>\n",
       "      <th>...</th>\n",
       "      <th>formulaA_elements_Row</th>\n",
       "      <th>formulaB_elements_Row</th>\n",
       "      <th>formulaA_elements_ShearModulus</th>\n",
       "      <th>formulaB_elements_ShearModulus</th>\n",
       "      <th>formulaA_elements_SpaceGroupNumber</th>\n",
       "      <th>formulaB_elements_SpaceGroupNumber</th>\n",
       "      <th>avg_coordination_A</th>\n",
       "      <th>avg_coordination_B</th>\n",
       "      <th>avg_nearest_neighbor_distance_A</th>\n",
       "      <th>avg_nearest_neighbor_distance_B</th>\n",
       "    </tr>\n",
       "  </thead>\n",
       "  <tbody>\n",
       "    <tr>\n",
       "      <th>0</th>\n",
       "      <td>Ac</td>\n",
       "      <td>Be</td>\n",
       "      <td>37.433086</td>\n",
       "      <td>8.098176</td>\n",
       "      <td>227.0</td>\n",
       "      <td>9.012182</td>\n",
       "      <td>3473.0</td>\n",
       "      <td>2743.0</td>\n",
       "      <td>0.0</td>\n",
       "      <td>130.0</td>\n",
       "      <td>...</td>\n",
       "      <td>7</td>\n",
       "      <td>2</td>\n",
       "      <td>0.0</td>\n",
       "      <td>132.0</td>\n",
       "      <td>225</td>\n",
       "      <td>194</td>\n",
       "      <td>12.0</td>\n",
       "      <td>12.0</td>\n",
       "      <td>3.99462</td>\n",
       "      <td>2.20087</td>\n",
       "    </tr>\n",
       "    <tr>\n",
       "      <th>1</th>\n",
       "      <td>Ac</td>\n",
       "      <td>Cd</td>\n",
       "      <td>37.433086</td>\n",
       "      <td>21.580025</td>\n",
       "      <td>227.0</td>\n",
       "      <td>112.411000</td>\n",
       "      <td>3473.0</td>\n",
       "      <td>1040.0</td>\n",
       "      <td>0.0</td>\n",
       "      <td>42.0</td>\n",
       "      <td>...</td>\n",
       "      <td>7</td>\n",
       "      <td>5</td>\n",
       "      <td>0.0</td>\n",
       "      <td>19.0</td>\n",
       "      <td>225</td>\n",
       "      <td>194</td>\n",
       "      <td>12.0</td>\n",
       "      <td>6.0</td>\n",
       "      <td>3.99462</td>\n",
       "      <td>3.00785</td>\n",
       "    </tr>\n",
       "    <tr>\n",
       "      <th>2</th>\n",
       "      <td>Ac</td>\n",
       "      <td>Cs</td>\n",
       "      <td>37.433086</td>\n",
       "      <td>117.456016</td>\n",
       "      <td>227.0</td>\n",
       "      <td>132.905452</td>\n",
       "      <td>3473.0</td>\n",
       "      <td>944.0</td>\n",
       "      <td>0.0</td>\n",
       "      <td>1.6</td>\n",
       "      <td>...</td>\n",
       "      <td>7</td>\n",
       "      <td>6</td>\n",
       "      <td>0.0</td>\n",
       "      <td>0.0</td>\n",
       "      <td>225</td>\n",
       "      <td>229</td>\n",
       "      <td>12.0</td>\n",
       "      <td>8.0</td>\n",
       "      <td>3.99462</td>\n",
       "      <td>5.32395</td>\n",
       "    </tr>\n",
       "    <tr>\n",
       "      <th>3</th>\n",
       "      <td>Ac</td>\n",
       "      <td>Ho</td>\n",
       "      <td>37.433086</td>\n",
       "      <td>31.140380</td>\n",
       "      <td>227.0</td>\n",
       "      <td>164.930320</td>\n",
       "      <td>3473.0</td>\n",
       "      <td>2973.0</td>\n",
       "      <td>0.0</td>\n",
       "      <td>40.0</td>\n",
       "      <td>...</td>\n",
       "      <td>7</td>\n",
       "      <td>6</td>\n",
       "      <td>0.0</td>\n",
       "      <td>26.0</td>\n",
       "      <td>225</td>\n",
       "      <td>194</td>\n",
       "      <td>12.0</td>\n",
       "      <td>12.0</td>\n",
       "      <td>3.99462</td>\n",
       "      <td>3.48112</td>\n",
       "    </tr>\n",
       "    <tr>\n",
       "      <th>4</th>\n",
       "      <td>Ac</td>\n",
       "      <td>K</td>\n",
       "      <td>37.433086</td>\n",
       "      <td>75.847865</td>\n",
       "      <td>227.0</td>\n",
       "      <td>39.098300</td>\n",
       "      <td>3473.0</td>\n",
       "      <td>1032.0</td>\n",
       "      <td>0.0</td>\n",
       "      <td>3.1</td>\n",
       "      <td>...</td>\n",
       "      <td>7</td>\n",
       "      <td>4</td>\n",
       "      <td>0.0</td>\n",
       "      <td>1.3</td>\n",
       "      <td>225</td>\n",
       "      <td>229</td>\n",
       "      <td>12.0</td>\n",
       "      <td>8.0</td>\n",
       "      <td>3.99462</td>\n",
       "      <td>4.57083</td>\n",
       "    </tr>\n",
       "  </tbody>\n",
       "</table>\n",
       "<p>5 rows × 98 columns</p>\n",
       "</div>"
      ],
      "text/plain": [
       "  formulaA formulaB  formulaA_elements_AtomicVolume  \\\n",
       "0       Ac       Be                       37.433086   \n",
       "1       Ac       Cd                       37.433086   \n",
       "2       Ac       Cs                       37.433086   \n",
       "3       Ac       Ho                       37.433086   \n",
       "4       Ac        K                       37.433086   \n",
       "\n",
       "   formulaB_elements_AtomicVolume  formulaA_elements_AtomicWeight  \\\n",
       "0                        8.098176                           227.0   \n",
       "1                       21.580025                           227.0   \n",
       "2                      117.456016                           227.0   \n",
       "3                       31.140380                           227.0   \n",
       "4                       75.847865                           227.0   \n",
       "\n",
       "   formulaB_elements_AtomicWeight  formulaA_elements_BoilingT  \\\n",
       "0                        9.012182                      3473.0   \n",
       "1                      112.411000                      3473.0   \n",
       "2                      132.905452                      3473.0   \n",
       "3                      164.930320                      3473.0   \n",
       "4                       39.098300                      3473.0   \n",
       "\n",
       "   formulaB_elements_BoilingT  formulaA_elements_BulkModulus  \\\n",
       "0                      2743.0                            0.0   \n",
       "1                      1040.0                            0.0   \n",
       "2                       944.0                            0.0   \n",
       "3                      2973.0                            0.0   \n",
       "4                      1032.0                            0.0   \n",
       "\n",
       "   formulaB_elements_BulkModulus               ...                 \\\n",
       "0                          130.0               ...                  \n",
       "1                           42.0               ...                  \n",
       "2                            1.6               ...                  \n",
       "3                           40.0               ...                  \n",
       "4                            3.1               ...                  \n",
       "\n",
       "   formulaA_elements_Row  formulaB_elements_Row  \\\n",
       "0                      7                      2   \n",
       "1                      7                      5   \n",
       "2                      7                      6   \n",
       "3                      7                      6   \n",
       "4                      7                      4   \n",
       "\n",
       "   formulaA_elements_ShearModulus  formulaB_elements_ShearModulus  \\\n",
       "0                             0.0                           132.0   \n",
       "1                             0.0                            19.0   \n",
       "2                             0.0                             0.0   \n",
       "3                             0.0                            26.0   \n",
       "4                             0.0                             1.3   \n",
       "\n",
       "   formulaA_elements_SpaceGroupNumber  formulaB_elements_SpaceGroupNumber  \\\n",
       "0                                 225                                 194   \n",
       "1                                 225                                 194   \n",
       "2                                 225                                 229   \n",
       "3                                 225                                 194   \n",
       "4                                 225                                 229   \n",
       "\n",
       "   avg_coordination_A  avg_coordination_B  avg_nearest_neighbor_distance_A  \\\n",
       "0                12.0                12.0                          3.99462   \n",
       "1                12.0                 6.0                          3.99462   \n",
       "2                12.0                 8.0                          3.99462   \n",
       "3                12.0                12.0                          3.99462   \n",
       "4                12.0                 8.0                          3.99462   \n",
       "\n",
       "   avg_nearest_neighbor_distance_B  \n",
       "0                          2.20087  \n",
       "1                          3.00785  \n",
       "2                          5.32395  \n",
       "3                          3.48112  \n",
       "4                          4.57083  \n",
       "\n",
       "[5 rows x 98 columns]"
      ]
     },
     "execution_count": 38,
     "metadata": {},
     "output_type": "execute_result"
    }
   ],
   "source": [
    "test.head()\n",
    "#test.info()\n",
    "#test.isnull().sum()"
   ]
  },
  {
   "cell_type": "code",
   "execution_count": 1,
   "metadata": {},
   "outputs": [],
   "source": [
    "#pandas_profiling.ProfileReport(test)"
   ]
  },
  {
   "cell_type": "code",
   "execution_count": 39,
   "metadata": {},
   "outputs": [],
   "source": [
    "# Prepare test data into binary format(same dimension as traing data)for prediction\n",
    "def test_to_binary(test):\n",
    "    df_new = pd.DataFrame()\n",
    "    for i in range(11):\n",
    "        df = test.copy()\n",
    "        df['B ratio'] = i * 10\n",
    "        df_new = pd.concat([df, df_new])\n",
    "        # drop the highly correlated features\n",
    "        df_new = df_new.drop(['formulaA_elements_GSbandgap','formulaA_elements_GSestBCClatcnt', 'formulaA_elements_GSvolume_pa',\n",
    "                     'formulaA_elements_ICSDVolume','formulaA_elements_Column', 'formulaA_elements_Number', \n",
    "                      'formulaA_elements_Row','formulaB_elements_GSestBCClatcnt', 'formulaB_elements_GSvolume_pa',\n",
    "                     'formulaB_elements_ICSDVolume','formulaB_elements_Column', 'formulaB_elements_Number',\n",
    "                      'formulaB_elements_Row', 'formulaA', 'formulaB'], axis = 1)\n",
    "    return df_new\n",
    "\n",
    "# Using GBDT to predict the test data        \n",
    "def GBDT(X, y, test):\n",
    "    df_test = test.sort_values(by=['formulaA_elements_AtomicVolume','formulaB_elements_AtomicVolume','B ratio'])\n",
    "    df_test = df_test.reset_index()\n",
    "    df_test = df_test.drop('index', axis = 1)\n",
    "    \n",
    "    # Use best model to train then predict\n",
    "    clf = GradientBoostingClassifier(n_estimators = 1000, max_depth = 5, learning_rate = 0.1)\n",
    "    \n",
    "    clf.fit(X, y)\n",
    "    test_label = clf.predict(df_test)\n",
    "    df_test['label'] = test_label\n",
    "    return df_test\n",
    "\n",
    "# After prediction, transform the test set back to orignial format with stability vector in string data type.\n",
    "def binary_to_test(df_test):\n",
    "    dfy = pd.DataFrame()\n",
    "    for i in range(749):\n",
    "        dfx = df_test.loc[i * 11 : i * 11 + 10]\n",
    "        dfx['stabilityVec'] = np.nan\n",
    "        result = []\n",
    "        for j in dfx.index:\n",
    "            result.append(str(dfx.loc[j]['label']))\n",
    "            \n",
    "        # stabilityVec in str data type\n",
    "        dfx['stabilityVec'][j] = '[' + str(','.join(k for k in result)) + ']'\n",
    "        dfy = pd.concat([dfy, dfx])\n",
    "    dfy = dfy.drop('B ratio', axis = 1)\n",
    "    dfy = dfy.dropna()\n",
    "    dfy = dfy.drop('label', axis = 1)\n",
    "    return dfy"
   ]
  },
  {
   "cell_type": "code",
   "execution_count": 40,
   "metadata": {},
   "outputs": [
    {
     "data": {
      "text/html": [
       "<div>\n",
       "<style scoped>\n",
       "    .dataframe tbody tr th:only-of-type {\n",
       "        vertical-align: middle;\n",
       "    }\n",
       "\n",
       "    .dataframe tbody tr th {\n",
       "        vertical-align: top;\n",
       "    }\n",
       "\n",
       "    .dataframe thead th {\n",
       "        text-align: right;\n",
       "    }\n",
       "</style>\n",
       "<table border=\"1\" class=\"dataframe\">\n",
       "  <thead>\n",
       "    <tr style=\"text-align: right;\">\n",
       "      <th></th>\n",
       "      <th>B ratio</th>\n",
       "      <th>avg_coordination_A</th>\n",
       "      <th>avg_coordination_B</th>\n",
       "      <th>avg_nearest_neighbor_distance_A</th>\n",
       "      <th>avg_nearest_neighbor_distance_B</th>\n",
       "      <th>formulaA_elements_AtomicVolume</th>\n",
       "      <th>formulaA_elements_AtomicWeight</th>\n",
       "      <th>formulaA_elements_BoilingT</th>\n",
       "      <th>formulaA_elements_BulkModulus</th>\n",
       "      <th>formulaA_elements_CovalentRadius</th>\n",
       "      <th>...</th>\n",
       "      <th>formulaB_elements_NdValence</th>\n",
       "      <th>formulaB_elements_NfUnfilled</th>\n",
       "      <th>formulaB_elements_NfValence</th>\n",
       "      <th>formulaB_elements_NpUnfilled</th>\n",
       "      <th>formulaB_elements_NpValence</th>\n",
       "      <th>formulaB_elements_NsUnfilled</th>\n",
       "      <th>formulaB_elements_NsValence</th>\n",
       "      <th>formulaB_elements_Polarizability</th>\n",
       "      <th>formulaB_elements_ShearModulus</th>\n",
       "      <th>formulaB_elements_SpaceGroupNumber</th>\n",
       "    </tr>\n",
       "  </thead>\n",
       "  <tbody>\n",
       "    <tr>\n",
       "      <th>0</th>\n",
       "      <td>100</td>\n",
       "      <td>12.0</td>\n",
       "      <td>12.0</td>\n",
       "      <td>3.99462</td>\n",
       "      <td>2.20087</td>\n",
       "      <td>37.433086</td>\n",
       "      <td>227.0</td>\n",
       "      <td>3473.0</td>\n",
       "      <td>0.0</td>\n",
       "      <td>215</td>\n",
       "      <td>...</td>\n",
       "      <td>0</td>\n",
       "      <td>0</td>\n",
       "      <td>0</td>\n",
       "      <td>0</td>\n",
       "      <td>0</td>\n",
       "      <td>0</td>\n",
       "      <td>2</td>\n",
       "      <td>5.60</td>\n",
       "      <td>132.0</td>\n",
       "      <td>194</td>\n",
       "    </tr>\n",
       "    <tr>\n",
       "      <th>1</th>\n",
       "      <td>100</td>\n",
       "      <td>12.0</td>\n",
       "      <td>6.0</td>\n",
       "      <td>3.99462</td>\n",
       "      <td>3.00785</td>\n",
       "      <td>37.433086</td>\n",
       "      <td>227.0</td>\n",
       "      <td>3473.0</td>\n",
       "      <td>0.0</td>\n",
       "      <td>215</td>\n",
       "      <td>...</td>\n",
       "      <td>10</td>\n",
       "      <td>0</td>\n",
       "      <td>0</td>\n",
       "      <td>0</td>\n",
       "      <td>0</td>\n",
       "      <td>0</td>\n",
       "      <td>2</td>\n",
       "      <td>7.32</td>\n",
       "      <td>19.0</td>\n",
       "      <td>194</td>\n",
       "    </tr>\n",
       "    <tr>\n",
       "      <th>2</th>\n",
       "      <td>100</td>\n",
       "      <td>12.0</td>\n",
       "      <td>8.0</td>\n",
       "      <td>3.99462</td>\n",
       "      <td>5.32395</td>\n",
       "      <td>37.433086</td>\n",
       "      <td>227.0</td>\n",
       "      <td>3473.0</td>\n",
       "      <td>0.0</td>\n",
       "      <td>215</td>\n",
       "      <td>...</td>\n",
       "      <td>0</td>\n",
       "      <td>0</td>\n",
       "      <td>0</td>\n",
       "      <td>0</td>\n",
       "      <td>0</td>\n",
       "      <td>1</td>\n",
       "      <td>1</td>\n",
       "      <td>59.42</td>\n",
       "      <td>0.0</td>\n",
       "      <td>229</td>\n",
       "    </tr>\n",
       "    <tr>\n",
       "      <th>3</th>\n",
       "      <td>100</td>\n",
       "      <td>12.0</td>\n",
       "      <td>12.0</td>\n",
       "      <td>3.99462</td>\n",
       "      <td>3.48112</td>\n",
       "      <td>37.433086</td>\n",
       "      <td>227.0</td>\n",
       "      <td>3473.0</td>\n",
       "      <td>0.0</td>\n",
       "      <td>215</td>\n",
       "      <td>...</td>\n",
       "      <td>0</td>\n",
       "      <td>3</td>\n",
       "      <td>11</td>\n",
       "      <td>0</td>\n",
       "      <td>0</td>\n",
       "      <td>0</td>\n",
       "      <td>2</td>\n",
       "      <td>23.60</td>\n",
       "      <td>26.0</td>\n",
       "      <td>194</td>\n",
       "    </tr>\n",
       "    <tr>\n",
       "      <th>4</th>\n",
       "      <td>100</td>\n",
       "      <td>12.0</td>\n",
       "      <td>8.0</td>\n",
       "      <td>3.99462</td>\n",
       "      <td>4.57083</td>\n",
       "      <td>37.433086</td>\n",
       "      <td>227.0</td>\n",
       "      <td>3473.0</td>\n",
       "      <td>0.0</td>\n",
       "      <td>215</td>\n",
       "      <td>...</td>\n",
       "      <td>0</td>\n",
       "      <td>0</td>\n",
       "      <td>0</td>\n",
       "      <td>0</td>\n",
       "      <td>0</td>\n",
       "      <td>1</td>\n",
       "      <td>1</td>\n",
       "      <td>43.23</td>\n",
       "      <td>1.3</td>\n",
       "      <td>229</td>\n",
       "    </tr>\n",
       "  </tbody>\n",
       "</table>\n",
       "<p>5 rows × 84 columns</p>\n",
       "</div>"
      ],
      "text/plain": [
       "   B ratio  avg_coordination_A  avg_coordination_B  \\\n",
       "0      100                12.0                12.0   \n",
       "1      100                12.0                 6.0   \n",
       "2      100                12.0                 8.0   \n",
       "3      100                12.0                12.0   \n",
       "4      100                12.0                 8.0   \n",
       "\n",
       "   avg_nearest_neighbor_distance_A  avg_nearest_neighbor_distance_B  \\\n",
       "0                          3.99462                          2.20087   \n",
       "1                          3.99462                          3.00785   \n",
       "2                          3.99462                          5.32395   \n",
       "3                          3.99462                          3.48112   \n",
       "4                          3.99462                          4.57083   \n",
       "\n",
       "   formulaA_elements_AtomicVolume  formulaA_elements_AtomicWeight  \\\n",
       "0                       37.433086                           227.0   \n",
       "1                       37.433086                           227.0   \n",
       "2                       37.433086                           227.0   \n",
       "3                       37.433086                           227.0   \n",
       "4                       37.433086                           227.0   \n",
       "\n",
       "   formulaA_elements_BoilingT  formulaA_elements_BulkModulus  \\\n",
       "0                      3473.0                            0.0   \n",
       "1                      3473.0                            0.0   \n",
       "2                      3473.0                            0.0   \n",
       "3                      3473.0                            0.0   \n",
       "4                      3473.0                            0.0   \n",
       "\n",
       "   formulaA_elements_CovalentRadius                 ...                  \\\n",
       "0                               215                 ...                   \n",
       "1                               215                 ...                   \n",
       "2                               215                 ...                   \n",
       "3                               215                 ...                   \n",
       "4                               215                 ...                   \n",
       "\n",
       "   formulaB_elements_NdValence  formulaB_elements_NfUnfilled  \\\n",
       "0                            0                             0   \n",
       "1                           10                             0   \n",
       "2                            0                             0   \n",
       "3                            0                             3   \n",
       "4                            0                             0   \n",
       "\n",
       "   formulaB_elements_NfValence  formulaB_elements_NpUnfilled  \\\n",
       "0                            0                             0   \n",
       "1                            0                             0   \n",
       "2                            0                             0   \n",
       "3                           11                             0   \n",
       "4                            0                             0   \n",
       "\n",
       "   formulaB_elements_NpValence  formulaB_elements_NsUnfilled  \\\n",
       "0                            0                             0   \n",
       "1                            0                             0   \n",
       "2                            0                             1   \n",
       "3                            0                             0   \n",
       "4                            0                             1   \n",
       "\n",
       "   formulaB_elements_NsValence  formulaB_elements_Polarizability  \\\n",
       "0                            2                              5.60   \n",
       "1                            2                              7.32   \n",
       "2                            1                             59.42   \n",
       "3                            2                             23.60   \n",
       "4                            1                             43.23   \n",
       "\n",
       "   formulaB_elements_ShearModulus  formulaB_elements_SpaceGroupNumber  \n",
       "0                           132.0                                 194  \n",
       "1                            19.0                                 194  \n",
       "2                             0.0                                 229  \n",
       "3                            26.0                                 194  \n",
       "4                             1.3                                 229  \n",
       "\n",
       "[5 rows x 84 columns]"
      ]
     },
     "execution_count": 40,
     "metadata": {},
     "output_type": "execute_result"
    }
   ],
   "source": [
    "#df_new.sort_values(by=['formulaA', 'formulaB'])\n",
    "test_df = test_to_binary(test)\n",
    "test_df.head()"
   ]
  },
  {
   "cell_type": "code",
   "execution_count": 41,
   "metadata": {},
   "outputs": [],
   "source": [
    "test_label = GBDT(X, y, test_df)"
   ]
  },
  {
   "cell_type": "code",
   "execution_count": 42,
   "metadata": {},
   "outputs": [],
   "source": [
    "submission_test = binary_to_test(test_label)"
   ]
  },
  {
   "cell_type": "code",
   "execution_count": 43,
   "metadata": {},
   "outputs": [],
   "source": [
    "sub = submission_test[['formulaA_elements_AtomicWeight','formulaB_elements_AtomicWeight', 'stabilityVec']]"
   ]
  },
  {
   "cell_type": "code",
   "execution_count": 44,
   "metadata": {},
   "outputs": [],
   "source": [
    "df_test_submission = pd.merge(test, sub, on=['formulaA_elements_AtomicWeight','formulaB_elements_AtomicWeight'], how = 'inner')"
   ]
  },
  {
   "cell_type": "code",
   "execution_count": 45,
   "metadata": {},
   "outputs": [],
   "source": [
    "#df_test_submission.sort_values(by=['formulaA_elements_AtomicVolume','formulaB_elements_AtomicVolume'])\n",
    "df_test_submission.to_csv('test_data_submission.csv')"
   ]
  },
  {
   "cell_type": "markdown",
   "metadata": {},
   "source": [
    "## 8. Approach II: Multi-label Calssification "
   ]
  },
  {
   "cell_type": "markdown",
   "metadata": {},
   "source": [
    "### There are a few well known methods for multi-label classification problem:\n",
    "##### 1. Binary Relevance: Treat each class as a binary classification problem and train the data separately. The assumption here is that there is no correlation between classes and they are mutual exclusive. But for this binary compound case, we did not see strong correlations between different classes from the above heatmap. Also, for the class_0 and class_10 which represents pure A and pure B, the labels are all '1', thus, I will only train the rest of 9 binary classifiers.\n",
    "\n",
    "##### 2. Classifier Chains: the 1st classifier is trained on all features and the predicted label is added as a feature to train the 2nd classifier. Then the subsequent classifiers are trained on the input features and all previous predicted classes in chain. In this case, the model is able to catch the correlation between classes with in the training data.\n"
   ]
  },
  {
   "cell_type": "code",
   "execution_count": 47,
   "metadata": {},
   "outputs": [],
   "source": [
    "# df_ml is the training data with 11 classes separated:\n",
    "df_ml, _, _ = binary_composition(df_new)"
   ]
  },
  {
   "cell_type": "code",
   "execution_count": 48,
   "metadata": {},
   "outputs": [
    {
     "name": "stdout",
     "output_type": "stream",
     "text": [
      "(2572, 94)\n"
     ]
    }
   ],
   "source": [
    "print(df_ml.shape)"
   ]
  },
  {
   "cell_type": "markdown",
   "metadata": {},
   "source": [
    "### 8.1 Prepare the Input Features X and Label Y"
   ]
  },
  {
   "cell_type": "markdown",
   "metadata": {},
   "source": [
    "#### We have overall 11 classes but class_0 and class_10 contains all positive labels, thus, these two classes are removed for training."
   ]
  },
  {
   "cell_type": "code",
   "execution_count": 49,
   "metadata": {},
   "outputs": [
    {
     "name": "stdout",
     "output_type": "stream",
     "text": [
      "(2572, 83)\n",
      "(2572, 9)\n"
     ]
    }
   ],
   "source": [
    "# Prepare the multi-label data set.\n",
    "# y: only consider class 1 to class 9 where A and B are in compound form. \n",
    "X_ml = df_ml.iloc[:, :-11]\n",
    "y_ml = df_ml.iloc[:, -10: -1]\n",
    "y_ml = y_ml.astype(np.int)\n",
    "print(X_ml.shape)\n",
    "print(y_ml.shape)"
   ]
  },
  {
   "cell_type": "markdown",
   "metadata": {},
   "source": [
    "### 8.2  Binary Relevance Model Evaluation: LR, SVM, RF and GBDT "
   ]
  },
  {
   "cell_type": "markdown",
   "metadata": {},
   "source": [
    "### Aggregate 9 classifiers confusion matrix into one and use it to evaluate the model performance.\n",
    "### Random Froest outperforms the other models.  Thus, it is used to predict the test data set."
   ]
  },
  {
   "cell_type": "code",
   "execution_count": 50,
   "metadata": {},
   "outputs": [],
   "source": [
    "#1. Binary Relevance:\n",
    "\n",
    "from imblearn.over_sampling import SMOTE\n",
    "\n",
    "# Step 1: initialize the global variables.\n",
    "# Step 2: standardize the training data and test data. ~N(0, 1)\n",
    "# Step 3: train each class (9 classes) separately. for each class, upsampling minority class by SMOTE\n",
    "# Step 4: output F1 scores and confusion matrix for each classifier\n",
    "\n",
    "class BRClassifier():\n",
    "    def __init__(self, estimator, scoring = [precision_score,recall_score,f1_score], test_size = 0.25, random_state = 1):\n",
    "        self.scoring = scoring\n",
    "        self.estimator = clone(estimator)\n",
    "        self.test_size = test_size\n",
    "        self.random_state = random_state\n",
    "        \n",
    "    def standardization(self, X_train, X_test):\n",
    "        scaler = StandardScaler()\n",
    "        X_train_scaled = scaler.fit_transform(X_train)\n",
    "        X_test_scaled = scaler.transform(X_test)\n",
    "        return X_train_scaled, X_test_scaled   \n",
    "    \n",
    "    def fit(self, X, y):\n",
    "        # partition data into train and test set\n",
    "        X_train, X_test, y_train, y_test = train_test_split(X, y, \n",
    "                                                    test_size = self.test_size,random_state=self.random_state,\n",
    "                                                    shuffle = True)\n",
    "        \n",
    "        X_train_scaled, X_test_scaled = self.standardization(X_train, X_test)\n",
    "        \n",
    "        true_neg, false_pos, false_neg, true_pos = 0, 0, 0, 0\n",
    "        \n",
    "        # Build 9 different binary classifiers and train each class separately. \n",
    "        # print the F1 score for each class prediction \n",
    "        # record the True Positve, True Negative, False Negative and True Positive for each class and aggragate \n",
    "        # into 1 confusion matrix for overall model evaluation.\n",
    "        \n",
    "        for label in y_train.columns: \n",
    "            # output F1 score and confusion matrix for each classifier\n",
    "            scores, cm = self._calc_score(X_train_scaled, y_train[label], X_test_scaled, y_test[label])\n",
    "            self.scores_ = {'Precision': np.round(scores[0], 3),'Recall': np.round(scores[1], 3),\n",
    "                                   'F1': np.round(scores[2], 3)}\n",
    "            \n",
    "            print (label, self.scores_)\n",
    "            \n",
    "            # Aggregate True Negative, False Positive, False Negative and True Positives \n",
    "            true_neg += cm[0][0]\n",
    "            false_pos += cm[0][1]\n",
    "            false_neg += cm[1][0]\n",
    "            true_pos += cm[1][1]\n",
    "           \n",
    "        # Build Confusion Matrix based on total 9 classes     \n",
    "        confusionMatrix = np.array([[true_neg, false_pos], [false_neg, true_pos]])\n",
    "        precision = true_pos/(true_pos + false_pos)\n",
    "        recall = true_pos/(true_pos + false_neg)\n",
    "        f1 = 2*precision*recall/(precision + recall)\n",
    "        \n",
    "        print ('\\n9 Classes Overall Precision: %.3f, Recall: %.3f, F1 score: %.3f' %(precision, recall, f1))\n",
    "               \n",
    "        # Plot Confusion Matrix \n",
    "        fig, ax = plt.subplots(figsize=(3, 3))\n",
    "        ax.matshow(confusionMatrix, cmap=plt.cm.Blues, alpha=0.3)\n",
    "        for i in range(confusionMatrix.shape[0]):\n",
    "            for j in range(confusionMatrix.shape[1]):\n",
    "                ax.text(x=j, y=i, s=confusionMatrix[i, j], va='center', ha='center')\n",
    "                \n",
    "        plt.title('9 Classes Overall Confusion Matrix', y = 1.15)\n",
    "        plt.xlabel('Predicted label')\n",
    "        plt.ylabel('True label')\n",
    "        plt.show()\n",
    "        \n",
    "           \n",
    "    def _calc_score(self, X_train_scaled, y_train, X_test_scaled, y_test):\n",
    "        # Synthetic Minority Upsampling to training data ONLY\n",
    "        smt = SMOTE()\n",
    "        X_train_smt, y_train_smt = smt.fit_resample(X_train_scaled, y_train)\n",
    "        \n",
    "        self.estimator.fit(X_train_smt, y_train_smt)\n",
    "        y_pred = self.estimator.predict(X_test_scaled)\n",
    "        cm = confusion_matrix(y_test, y_pred)\n",
    "        scores = []\n",
    "        for score_type in self.scoring:\n",
    "            score = score_type(y_test, y_pred)\n",
    "            scores.append(score)\n",
    "        return scores, cm    "
   ]
  },
  {
   "cell_type": "markdown",
   "metadata": {},
   "source": [
    "#### 8.2.1 LR"
   ]
  },
  {
   "cell_type": "code",
   "execution_count": 51,
   "metadata": {},
   "outputs": [
    {
     "name": "stdout",
     "output_type": "stream",
     "text": [
      "class_1 {'Precision': 0.12, 'Recall': 0.545, 'F1': 0.197}\n",
      "class_2 {'Precision': 0.13, 'Recall': 0.667, 'F1': 0.218}\n",
      "class_3 {'Precision': 0.5, 'Recall': 0.788, 'F1': 0.612}\n",
      "class_4 {'Precision': 0.213, 'Recall': 0.675, 'F1': 0.323}\n",
      "class_5 {'Precision': 0.432, 'Recall': 0.748, 'F1': 0.547}\n",
      "class_6 {'Precision': 0.177, 'Recall': 0.636, 'F1': 0.277}\n",
      "class_7 {'Precision': 0.284, 'Recall': 0.798, 'F1': 0.419}\n",
      "class_8 {'Precision': 0.373, 'Recall': 0.735, 'F1': 0.495}\n",
      "class_9 {'Precision': 0.244, 'Recall': 0.769, 'F1': 0.37}\n",
      "\n",
      "9 Classes Overall Precision: 0.322, Recall: 0.744, F1 score: 0.449\n"
     ]
    },
    {
     "data": {
      "image/png": "[encoded data removed]",
      "text/plain": [
       "<Figure size 300x300 with 1 Axes>"
      ]
     },
     "metadata": {},
     "output_type": "display_data"
    }
   ],
   "source": [
    "lr = LogisticRegression(penalty = 'l1',  C = 1.0, class_weight='balanced')\n",
    "clf = BRClassifier(lr)\n",
    "clf.fit(X_ml, y_ml)"
   ]
  },
  {
   "cell_type": "markdown",
   "metadata": {},
   "source": [
    "#### 8.2.2 SVM"
   ]
  },
  {
   "cell_type": "code",
   "execution_count": 50,
   "metadata": {},
   "outputs": [
    {
     "name": "stdout",
     "output_type": "stream",
     "text": [
      "class_1 {'Precision': 0.312, 'Recall': 0.455, 'F1': 0.37}\n",
      "class_2 {'Precision': 0.269, 'Recall': 0.389, 'F1': 0.318}\n",
      "class_3 {'Precision': 0.647, 'Recall': 0.678, 'F1': 0.662}\n",
      "class_4 {'Precision': 0.333, 'Recall': 0.45, 'F1': 0.383}\n",
      "class_5 {'Precision': 0.687, 'Recall': 0.667, 'F1': 0.677}\n",
      "class_6 {'Precision': 0.396, 'Recall': 0.477, 'F1': 0.433}\n",
      "class_7 {'Precision': 0.467, 'Recall': 0.5, 'F1': 0.483}\n",
      "class_8 {'Precision': 0.667, 'Recall': 0.612, 'F1': 0.638}\n",
      "class_9 {'Precision': 0.333, 'Recall': 0.385, 'F1': 0.357}\n",
      "\n",
      "9 Classes Overall Precision: 0.553, Recall: 0.589, F1 score: 0.570\n"
     ]
    },
    {
     "data": {
      "image/png": "[encoded data removed]",
      "text/plain": [
       "<Figure size 300x300 with 1 Axes>"
      ]
     },
     "metadata": {},
     "output_type": "display_data"
    }
   ],
   "source": [
    "svm = SVC(kernel = 'rbf', C = 100, gamma = 0.01,class_weight='balanced')\n",
    "clf_svm = BRClassifier(svm)\n",
    "clf_svm.fit(X_ml, y_ml)"
   ]
  },
  {
   "cell_type": "markdown",
   "metadata": {},
   "source": [
    "#### 8.2.3 GBDT"
   ]
  },
  {
   "cell_type": "code",
   "execution_count": 52,
   "metadata": {},
   "outputs": [
    {
     "name": "stdout",
     "output_type": "stream",
     "text": [
      "class_1 {'Precision': 0.278, 'Recall': 0.455, 'F1': 0.345}\n",
      "class_2 {'Precision': 0.263, 'Recall': 0.278, 'F1': 0.27}\n",
      "class_3 {'Precision': 0.701, 'Recall': 0.61, 'F1': 0.652}\n",
      "class_4 {'Precision': 0.514, 'Recall': 0.45, 'F1': 0.48}\n",
      "class_5 {'Precision': 0.719, 'Recall': 0.681, 'F1': 0.7}\n",
      "class_6 {'Precision': 0.543, 'Recall': 0.432, 'F1': 0.481}\n",
      "class_7 {'Precision': 0.606, 'Recall': 0.512, 'F1': 0.555}\n",
      "class_8 {'Precision': 0.61, 'Recall': 0.51, 'F1': 0.556}\n",
      "class_9 {'Precision': 0.7, 'Recall': 0.538, 'F1': 0.609}\n",
      "\n",
      "9 Classes Overall Precision: 0.625, Recall: 0.557, F1 score: 0.589\n"
     ]
    },
    {
     "data": {
      "image/png": "[encoded data removed]",
      "text/plain": [
       "<Figure size 300x300 with 1 Axes>"
      ]
     },
     "metadata": {},
     "output_type": "display_data"
    }
   ],
   "source": [
    "# GBDT did not outperform RF: for each class label, it is sparse and GBDT did not do well on this type of problem\n",
    "# Next step is to fine tune hyperparameter to see if I can make it better\n",
    "gbdt = GradientBoostingClassifier(n_estimators = 1000, max_depth = 5, learning_rate = 0.1)\n",
    "clf_gbdt = BRClassifier(gbdt)\n",
    "clf_gbdt.fit(X_ml, y_ml)"
   ]
  },
  {
   "cell_type": "markdown",
   "metadata": {},
   "source": [
    "### GBDT Hyperparameter Tuning\n",
    "#### This requires grid search best hyperparameter for each classifier and there are overall 9 classifiers. Thus, it is very time consuming to train all classifiers. For each class, the best hyperparameter were tuned but the F1 score for each classifier is still worse than RF. It is most likely because the limited amount of data since GBDT relies on large training data set and non sparse data space."
   ]
  },
  {
   "cell_type": "code",
   "execution_count": 72,
   "metadata": {},
   "outputs": [],
   "source": [
    "# grid search best hyperparamters for GBDT\n",
    "\n",
    "def gridSearchGBDT(X, y):\n",
    "    X_train, X_test, y_train, y_test = train_test_split(X, y, test_size = 0.1,random_state=1,shuffle = True)\n",
    "\n",
    "    # list of hyperparamter range\n",
    "    parameters = {\n",
    "    'n_estimators': [500, 1000],\n",
    "    'max_depth': [3, 5, 8],\n",
    "    'learning_rate': [0.01, 0.1, 1]\n",
    "             }\n",
    "\n",
    "    for label in y_train.columns:\n",
    "        # upsampling minority class\n",
    "        smt = SMOTE()\n",
    "        X_smt, y_smt = smt.fit_resample(X_train, y_train[label])\n",
    "        \n",
    "        # grid search no. of trees, max depth and learning rate: 2 x 3 x 3 x 9(classes) = 162 fittings\n",
    "        for n in parameters['n_estimators']:\n",
    "            for d in parameters['max_depth']: \n",
    "                for l in parameters['learning_rate']:\n",
    "                    gbt = GradientBoostingClassifier(n_estimators= n, learning_rate=l, max_depth=d)\n",
    "                    gbt.fit(X_smt, y_smt)\n",
    "                    y_pred = gbt.predict(X_test)\n",
    "\n",
    "                    precision = precision_score(y_test[label], y_pred)\n",
    "                    recall = recall_score(y_test[label], y_pred)\n",
    "                    f1 = f1_score(y_test[label], y_pred)\n",
    "                    print('class: %s, n_estimators: %d, max_depth: %d, learning_rate: %.3f, precision: %.3f, recall: %.3f, F1: %.3f' % \n",
    "                            (label, n, d,l, precision, recall, f1))          "
   ]
  },
  {
   "cell_type": "code",
   "execution_count": 73,
   "metadata": {},
   "outputs": [
    {
     "name": "stdout",
     "output_type": "stream",
     "text": [
      "class: class_1, n_estimators: 500, max_depth: 3, learning_rate: 0.010, precision: 0.250, recall: 0.400, F1: 0.308\n",
      "class: class_1, n_estimators: 500, max_depth: 3, learning_rate: 0.100, precision: 0.250, recall: 0.200, F1: 0.222\n",
      "class: class_1, n_estimators: 500, max_depth: 3, learning_rate: 1.000, precision: 0.200, recall: 0.200, F1: 0.200\n",
      "class: class_1, n_estimators: 500, max_depth: 5, learning_rate: 0.010, precision: 0.250, recall: 0.400, F1: 0.308\n",
      "class: class_1, n_estimators: 500, max_depth: 5, learning_rate: 0.100, precision: 0.200, recall: 0.200, F1: 0.200\n",
      "class: class_1, n_estimators: 500, max_depth: 5, learning_rate: 1.000, precision: 0.250, recall: 0.400, F1: 0.308\n",
      "class: class_1, n_estimators: 500, max_depth: 8, learning_rate: 0.010, precision: 0.143, recall: 0.200, F1: 0.167\n",
      "class: class_1, n_estimators: 500, max_depth: 8, learning_rate: 0.100, precision: 0.286, recall: 0.400, F1: 0.333\n",
      "class: class_1, n_estimators: 500, max_depth: 8, learning_rate: 1.000, precision: 0.250, recall: 0.400, F1: 0.308\n",
      "class: class_1, n_estimators: 1000, max_depth: 3, learning_rate: 0.010, precision: 0.333, recall: 0.400, F1: 0.364\n",
      "class: class_1, n_estimators: 1000, max_depth: 3, learning_rate: 0.100, precision: 0.250, recall: 0.200, F1: 0.222\n",
      "class: class_1, n_estimators: 1000, max_depth: 3, learning_rate: 1.000, precision: 0.200, recall: 0.200, F1: 0.200\n",
      "class: class_1, n_estimators: 1000, max_depth: 5, learning_rate: 0.010, precision: 0.333, recall: 0.400, F1: 0.364\n",
      "class: class_1, n_estimators: 1000, max_depth: 5, learning_rate: 0.100, precision: 0.200, recall: 0.200, F1: 0.200\n",
      "class: class_1, n_estimators: 1000, max_depth: 5, learning_rate: 1.000, precision: 0.250, recall: 0.400, F1: 0.308\n",
      "class: class_1, n_estimators: 1000, max_depth: 8, learning_rate: 0.010, precision: 0.286, recall: 0.400, F1: 0.333\n",
      "class: class_1, n_estimators: 1000, max_depth: 8, learning_rate: 0.100, precision: 0.333, recall: 0.400, F1: 0.364\n",
      "class: class_1, n_estimators: 1000, max_depth: 8, learning_rate: 1.000, precision: 0.111, recall: 0.200, F1: 0.143\n",
      "class: class_2, n_estimators: 500, max_depth: 3, learning_rate: 0.010, precision: 0.133, recall: 0.222, F1: 0.167\n",
      "class: class_2, n_estimators: 500, max_depth: 3, learning_rate: 0.100, precision: 0.333, recall: 0.222, F1: 0.267\n",
      "class: class_2, n_estimators: 500, max_depth: 3, learning_rate: 1.000, precision: 0.333, recall: 0.333, F1: 0.333\n",
      "class: class_2, n_estimators: 500, max_depth: 5, learning_rate: 0.010, precision: 0.222, recall: 0.222, F1: 0.222\n",
      "class: class_2, n_estimators: 500, max_depth: 5, learning_rate: 0.100, precision: 0.286, recall: 0.222, F1: 0.250\n",
      "class: class_2, n_estimators: 500, max_depth: 5, learning_rate: 1.000, precision: 0.250, recall: 0.111, F1: 0.154\n",
      "class: class_2, n_estimators: 500, max_depth: 8, learning_rate: 0.010, precision: 0.167, recall: 0.111, F1: 0.133\n",
      "class: class_2, n_estimators: 500, max_depth: 8, learning_rate: 0.100, precision: 0.400, recall: 0.222, F1: 0.286\n",
      "class: class_2, n_estimators: 500, max_depth: 8, learning_rate: 1.000, precision: 0.200, recall: 0.222, F1: 0.211\n",
      "class: class_2, n_estimators: 1000, max_depth: 3, learning_rate: 0.010, precision: 0.143, recall: 0.111, F1: 0.125\n",
      "class: class_2, n_estimators: 1000, max_depth: 3, learning_rate: 0.100, precision: 0.333, recall: 0.222, F1: 0.267\n",
      "class: class_2, n_estimators: 1000, max_depth: 3, learning_rate: 1.000, precision: 0.333, recall: 0.333, F1: 0.333\n",
      "class: class_2, n_estimators: 1000, max_depth: 5, learning_rate: 0.010, precision: 0.286, recall: 0.222, F1: 0.250\n",
      "class: class_2, n_estimators: 1000, max_depth: 5, learning_rate: 0.100, precision: 0.286, recall: 0.222, F1: 0.250\n",
      "class: class_2, n_estimators: 1000, max_depth: 5, learning_rate: 1.000, precision: 0.250, recall: 0.111, F1: 0.154\n",
      "class: class_2, n_estimators: 1000, max_depth: 8, learning_rate: 0.010, precision: 0.200, recall: 0.111, F1: 0.143\n",
      "class: class_2, n_estimators: 1000, max_depth: 8, learning_rate: 0.100, precision: 0.333, recall: 0.222, F1: 0.267\n",
      "class: class_2, n_estimators: 1000, max_depth: 8, learning_rate: 1.000, precision: 0.125, recall: 0.111, F1: 0.118\n",
      "class: class_3, n_estimators: 500, max_depth: 3, learning_rate: 0.010, precision: 0.611, recall: 0.721, F1: 0.662\n",
      "class: class_3, n_estimators: 500, max_depth: 3, learning_rate: 0.100, precision: 0.750, recall: 0.689, F1: 0.718\n",
      "class: class_3, n_estimators: 500, max_depth: 3, learning_rate: 1.000, precision: 0.646, recall: 0.689, F1: 0.667\n",
      "class: class_3, n_estimators: 500, max_depth: 5, learning_rate: 0.010, precision: 0.682, recall: 0.738, F1: 0.709\n",
      "class: class_3, n_estimators: 500, max_depth: 5, learning_rate: 0.100, precision: 0.726, recall: 0.738, F1: 0.732\n",
      "class: class_3, n_estimators: 500, max_depth: 5, learning_rate: 1.000, precision: 0.700, recall: 0.689, F1: 0.694\n",
      "class: class_3, n_estimators: 500, max_depth: 8, learning_rate: 0.010, precision: 0.710, recall: 0.721, F1: 0.715\n",
      "class: class_3, n_estimators: 500, max_depth: 8, learning_rate: 0.100, precision: 0.692, recall: 0.738, F1: 0.714\n",
      "class: class_3, n_estimators: 500, max_depth: 8, learning_rate: 1.000, precision: 0.714, recall: 0.656, F1: 0.684\n",
      "class: class_3, n_estimators: 1000, max_depth: 3, learning_rate: 0.010, precision: 0.651, recall: 0.672, F1: 0.661\n",
      "class: class_3, n_estimators: 1000, max_depth: 3, learning_rate: 0.100, precision: 0.724, recall: 0.689, F1: 0.706\n",
      "class: class_3, n_estimators: 1000, max_depth: 3, learning_rate: 1.000, precision: 0.667, recall: 0.689, F1: 0.677\n",
      "class: class_3, n_estimators: 1000, max_depth: 5, learning_rate: 0.010, precision: 0.700, recall: 0.689, F1: 0.694\n",
      "class: class_3, n_estimators: 1000, max_depth: 5, learning_rate: 0.100, precision: 0.717, recall: 0.705, F1: 0.711\n",
      "class: class_3, n_estimators: 1000, max_depth: 5, learning_rate: 1.000, precision: 0.700, recall: 0.689, F1: 0.694\n",
      "class: class_3, n_estimators: 1000, max_depth: 8, learning_rate: 0.010, precision: 0.703, recall: 0.738, F1: 0.720\n",
      "class: class_3, n_estimators: 1000, max_depth: 8, learning_rate: 0.100, precision: 0.717, recall: 0.705, F1: 0.711\n",
      "class: class_3, n_estimators: 1000, max_depth: 8, learning_rate: 1.000, precision: 0.687, recall: 0.754, F1: 0.719\n",
      "class: class_4, n_estimators: 500, max_depth: 3, learning_rate: 0.010, precision: 0.276, recall: 0.444, F1: 0.340\n",
      "class: class_4, n_estimators: 500, max_depth: 3, learning_rate: 0.100, precision: 0.667, recall: 0.333, F1: 0.444\n",
      "class: class_4, n_estimators: 500, max_depth: 3, learning_rate: 1.000, precision: 0.333, recall: 0.278, F1: 0.303\n",
      "class: class_4, n_estimators: 500, max_depth: 5, learning_rate: 0.010, precision: 0.467, recall: 0.389, F1: 0.424\n",
      "class: class_4, n_estimators: 500, max_depth: 5, learning_rate: 0.100, precision: 0.538, recall: 0.389, F1: 0.452\n",
      "class: class_4, n_estimators: 500, max_depth: 5, learning_rate: 1.000, precision: 0.412, recall: 0.389, F1: 0.400\n",
      "class: class_4, n_estimators: 500, max_depth: 8, learning_rate: 0.010, precision: 0.471, recall: 0.444, F1: 0.457\n",
      "class: class_4, n_estimators: 500, max_depth: 8, learning_rate: 0.100, precision: 0.615, recall: 0.444, F1: 0.516\n",
      "class: class_4, n_estimators: 500, max_depth: 8, learning_rate: 1.000, precision: 0.444, recall: 0.444, F1: 0.444\n",
      "class: class_4, n_estimators: 1000, max_depth: 3, learning_rate: 0.010, precision: 0.368, recall: 0.389, F1: 0.378\n",
      "class: class_4, n_estimators: 1000, max_depth: 3, learning_rate: 0.100, precision: 0.600, recall: 0.333, F1: 0.429\n",
      "class: class_4, n_estimators: 1000, max_depth: 3, learning_rate: 1.000, precision: 0.333, recall: 0.278, F1: 0.303\n",
      "class: class_4, n_estimators: 1000, max_depth: 5, learning_rate: 0.010, precision: 0.571, recall: 0.444, F1: 0.500\n",
      "class: class_4, n_estimators: 1000, max_depth: 5, learning_rate: 0.100, precision: 0.500, recall: 0.389, F1: 0.438\n",
      "class: class_4, n_estimators: 1000, max_depth: 5, learning_rate: 1.000, precision: 0.467, recall: 0.389, F1: 0.424\n",
      "class: class_4, n_estimators: 1000, max_depth: 8, learning_rate: 0.010, precision: 0.500, recall: 0.389, F1: 0.438\n",
      "class: class_4, n_estimators: 1000, max_depth: 8, learning_rate: 0.100, precision: 0.636, recall: 0.389, F1: 0.483\n",
      "class: class_4, n_estimators: 1000, max_depth: 8, learning_rate: 1.000, precision: 0.353, recall: 0.333, F1: 0.343\n"
     ]
    },
    {
     "name": "stdout",
     "output_type": "stream",
     "text": [
      "class: class_5, n_estimators: 500, max_depth: 3, learning_rate: 0.010, precision: 0.562, recall: 0.726, F1: 0.634\n",
      "class: class_5, n_estimators: 500, max_depth: 3, learning_rate: 0.100, precision: 0.685, recall: 0.597, F1: 0.638\n",
      "class: class_5, n_estimators: 500, max_depth: 3, learning_rate: 1.000, precision: 0.727, recall: 0.645, F1: 0.684\n",
      "class: class_5, n_estimators: 500, max_depth: 5, learning_rate: 0.010, precision: 0.672, recall: 0.661, F1: 0.667\n",
      "class: class_5, n_estimators: 500, max_depth: 5, learning_rate: 0.100, precision: 0.778, recall: 0.565, F1: 0.654\n",
      "class: class_5, n_estimators: 500, max_depth: 5, learning_rate: 1.000, precision: 0.755, recall: 0.645, F1: 0.696\n",
      "class: class_5, n_estimators: 500, max_depth: 8, learning_rate: 0.010, precision: 0.745, recall: 0.661, F1: 0.701\n",
      "class: class_5, n_estimators: 500, max_depth: 8, learning_rate: 0.100, precision: 0.769, recall: 0.645, F1: 0.702\n",
      "class: class_5, n_estimators: 500, max_depth: 8, learning_rate: 1.000, precision: 0.712, recall: 0.597, F1: 0.649\n",
      "class: class_5, n_estimators: 1000, max_depth: 3, learning_rate: 0.010, precision: 0.620, recall: 0.710, F1: 0.662\n",
      "class: class_5, n_estimators: 1000, max_depth: 3, learning_rate: 0.100, precision: 0.702, recall: 0.645, F1: 0.672\n",
      "class: class_5, n_estimators: 1000, max_depth: 3, learning_rate: 1.000, precision: 0.722, recall: 0.629, F1: 0.672\n",
      "class: class_5, n_estimators: 1000, max_depth: 5, learning_rate: 0.010, precision: 0.714, recall: 0.645, F1: 0.678\n",
      "class: class_5, n_estimators: 1000, max_depth: 5, learning_rate: 0.100, precision: 0.706, recall: 0.581, F1: 0.637\n",
      "class: class_5, n_estimators: 1000, max_depth: 5, learning_rate: 1.000, precision: 0.690, recall: 0.645, F1: 0.667\n",
      "class: class_5, n_estimators: 1000, max_depth: 8, learning_rate: 0.010, precision: 0.765, recall: 0.629, F1: 0.690\n",
      "class: class_5, n_estimators: 1000, max_depth: 8, learning_rate: 0.100, precision: 0.755, recall: 0.645, F1: 0.696\n",
      "class: class_5, n_estimators: 1000, max_depth: 8, learning_rate: 1.000, precision: 0.732, recall: 0.661, F1: 0.695\n",
      "class: class_6, n_estimators: 500, max_depth: 3, learning_rate: 0.010, precision: 0.206, recall: 0.438, F1: 0.280\n",
      "class: class_6, n_estimators: 500, max_depth: 3, learning_rate: 0.100, precision: 0.462, recall: 0.375, F1: 0.414\n",
      "class: class_6, n_estimators: 500, max_depth: 3, learning_rate: 1.000, precision: 0.467, recall: 0.438, F1: 0.452\n",
      "class: class_6, n_estimators: 500, max_depth: 5, learning_rate: 0.010, precision: 0.333, recall: 0.438, F1: 0.378\n",
      "class: class_6, n_estimators: 500, max_depth: 5, learning_rate: 0.100, precision: 0.533, recall: 0.500, F1: 0.516\n",
      "class: class_6, n_estimators: 500, max_depth: 5, learning_rate: 1.000, precision: 0.400, recall: 0.375, F1: 0.387\n",
      "class: class_6, n_estimators: 500, max_depth: 8, learning_rate: 0.010, precision: 0.412, recall: 0.438, F1: 0.424\n",
      "class: class_6, n_estimators: 500, max_depth: 8, learning_rate: 0.100, precision: 0.583, recall: 0.438, F1: 0.500\n",
      "class: class_6, n_estimators: 500, max_depth: 8, learning_rate: 1.000, precision: 0.320, recall: 0.500, F1: 0.390\n",
      "class: class_6, n_estimators: 1000, max_depth: 3, learning_rate: 0.010, precision: 0.280, recall: 0.438, F1: 0.341\n",
      "class: class_6, n_estimators: 1000, max_depth: 3, learning_rate: 0.100, precision: 0.500, recall: 0.375, F1: 0.429\n",
      "class: class_6, n_estimators: 1000, max_depth: 3, learning_rate: 1.000, precision: 0.467, recall: 0.438, F1: 0.452\n",
      "class: class_6, n_estimators: 1000, max_depth: 5, learning_rate: 0.010, precision: 0.438, recall: 0.438, F1: 0.438\n",
      "class: class_6, n_estimators: 1000, max_depth: 5, learning_rate: 0.100, precision: 0.571, recall: 0.500, F1: 0.533\n",
      "class: class_6, n_estimators: 1000, max_depth: 5, learning_rate: 1.000, precision: 0.429, recall: 0.375, F1: 0.400\n",
      "class: class_6, n_estimators: 1000, max_depth: 8, learning_rate: 0.010, precision: 0.438, recall: 0.438, F1: 0.438\n",
      "class: class_6, n_estimators: 1000, max_depth: 8, learning_rate: 0.100, precision: 0.571, recall: 0.500, F1: 0.533\n",
      "class: class_6, n_estimators: 1000, max_depth: 8, learning_rate: 1.000, precision: 0.308, recall: 0.500, F1: 0.381\n",
      "class: class_7, n_estimators: 500, max_depth: 3, learning_rate: 0.010, precision: 0.431, recall: 0.667, F1: 0.524\n",
      "class: class_7, n_estimators: 500, max_depth: 3, learning_rate: 0.100, precision: 0.640, recall: 0.485, F1: 0.552\n",
      "class: class_7, n_estimators: 500, max_depth: 3, learning_rate: 1.000, precision: 0.621, recall: 0.545, F1: 0.581\n",
      "class: class_7, n_estimators: 500, max_depth: 5, learning_rate: 0.010, precision: 0.469, recall: 0.455, F1: 0.462\n",
      "class: class_7, n_estimators: 500, max_depth: 5, learning_rate: 0.100, precision: 0.556, recall: 0.455, F1: 0.500\n",
      "class: class_7, n_estimators: 500, max_depth: 5, learning_rate: 1.000, precision: 0.750, recall: 0.636, F1: 0.689\n",
      "class: class_7, n_estimators: 500, max_depth: 8, learning_rate: 0.010, precision: 0.567, recall: 0.515, F1: 0.540\n",
      "class: class_7, n_estimators: 500, max_depth: 8, learning_rate: 0.100, precision: 0.593, recall: 0.485, F1: 0.533\n",
      "class: class_7, n_estimators: 500, max_depth: 8, learning_rate: 1.000, precision: 0.533, recall: 0.485, F1: 0.508\n",
      "class: class_7, n_estimators: 1000, max_depth: 3, learning_rate: 0.010, precision: 0.500, recall: 0.606, F1: 0.548\n",
      "class: class_7, n_estimators: 1000, max_depth: 3, learning_rate: 0.100, precision: 0.667, recall: 0.545, F1: 0.600\n",
      "class: class_7, n_estimators: 1000, max_depth: 3, learning_rate: 1.000, precision: 0.633, recall: 0.576, F1: 0.603\n",
      "class: class_7, n_estimators: 1000, max_depth: 5, learning_rate: 0.010, precision: 0.600, recall: 0.455, F1: 0.517\n",
      "class: class_7, n_estimators: 1000, max_depth: 5, learning_rate: 0.100, precision: 0.583, recall: 0.424, F1: 0.491\n",
      "class: class_7, n_estimators: 1000, max_depth: 5, learning_rate: 1.000, precision: 0.724, recall: 0.636, F1: 0.677\n",
      "class: class_7, n_estimators: 1000, max_depth: 8, learning_rate: 0.010, precision: 0.552, recall: 0.485, F1: 0.516\n",
      "class: class_7, n_estimators: 1000, max_depth: 8, learning_rate: 0.100, precision: 0.615, recall: 0.485, F1: 0.542\n",
      "class: class_7, n_estimators: 1000, max_depth: 8, learning_rate: 1.000, precision: 0.562, recall: 0.545, F1: 0.554\n",
      "class: class_8, n_estimators: 500, max_depth: 3, learning_rate: 0.010, precision: 0.549, recall: 0.667, F1: 0.602\n",
      "class: class_8, n_estimators: 500, max_depth: 3, learning_rate: 0.100, precision: 0.692, recall: 0.643, F1: 0.667\n",
      "class: class_8, n_estimators: 500, max_depth: 3, learning_rate: 1.000, precision: 0.711, recall: 0.643, F1: 0.675\n",
      "class: class_8, n_estimators: 500, max_depth: 5, learning_rate: 0.010, precision: 0.658, recall: 0.595, F1: 0.625\n",
      "class: class_8, n_estimators: 500, max_depth: 5, learning_rate: 0.100, precision: 0.778, recall: 0.667, F1: 0.718\n",
      "class: class_8, n_estimators: 500, max_depth: 5, learning_rate: 1.000, precision: 0.682, recall: 0.714, F1: 0.698\n",
      "class: class_8, n_estimators: 500, max_depth: 8, learning_rate: 0.010, precision: 0.649, recall: 0.571, F1: 0.608\n",
      "class: class_8, n_estimators: 500, max_depth: 8, learning_rate: 0.100, precision: 0.706, recall: 0.571, F1: 0.632\n",
      "class: class_8, n_estimators: 500, max_depth: 8, learning_rate: 1.000, precision: 0.718, recall: 0.667, F1: 0.691\n",
      "class: class_8, n_estimators: 1000, max_depth: 3, learning_rate: 0.010, precision: 0.625, recall: 0.595, F1: 0.610\n",
      "class: class_8, n_estimators: 1000, max_depth: 3, learning_rate: 0.100, precision: 0.683, recall: 0.667, F1: 0.675\n",
      "class: class_8, n_estimators: 1000, max_depth: 3, learning_rate: 1.000, precision: 0.711, recall: 0.643, F1: 0.675\n",
      "class: class_8, n_estimators: 1000, max_depth: 5, learning_rate: 0.010, precision: 0.657, recall: 0.548, F1: 0.597\n",
      "class: class_8, n_estimators: 1000, max_depth: 5, learning_rate: 0.100, precision: 0.737, recall: 0.667, F1: 0.700\n",
      "class: class_8, n_estimators: 1000, max_depth: 5, learning_rate: 1.000, precision: 0.643, recall: 0.643, F1: 0.643\n",
      "class: class_8, n_estimators: 1000, max_depth: 8, learning_rate: 0.010, precision: 0.667, recall: 0.524, F1: 0.587\n",
      "class: class_8, n_estimators: 1000, max_depth: 8, learning_rate: 0.100, precision: 0.684, recall: 0.619, F1: 0.650\n",
      "class: class_8, n_estimators: 1000, max_depth: 8, learning_rate: 1.000, precision: 0.684, recall: 0.619, F1: 0.650\n"
     ]
    },
    {
     "name": "stdout",
     "output_type": "stream",
     "text": [
      "class: class_9, n_estimators: 500, max_depth: 3, learning_rate: 0.010, precision: 0.375, recall: 1.000, F1: 0.545\n",
      "class: class_9, n_estimators: 500, max_depth: 3, learning_rate: 0.100, precision: 0.500, recall: 0.667, F1: 0.571\n",
      "class: class_9, n_estimators: 500, max_depth: 3, learning_rate: 1.000, precision: 0.600, recall: 1.000, F1: 0.750\n",
      "class: class_9, n_estimators: 500, max_depth: 5, learning_rate: 0.010, precision: 0.375, recall: 1.000, F1: 0.545\n",
      "class: class_9, n_estimators: 500, max_depth: 5, learning_rate: 0.100, precision: 0.600, recall: 1.000, F1: 0.750\n",
      "class: class_9, n_estimators: 500, max_depth: 5, learning_rate: 1.000, precision: 0.500, recall: 1.000, F1: 0.667\n",
      "class: class_9, n_estimators: 500, max_depth: 8, learning_rate: 0.010, precision: 0.250, recall: 0.667, F1: 0.364\n",
      "class: class_9, n_estimators: 500, max_depth: 8, learning_rate: 0.100, precision: 0.333, recall: 0.667, F1: 0.444\n",
      "class: class_9, n_estimators: 500, max_depth: 8, learning_rate: 1.000, precision: 0.429, recall: 1.000, F1: 0.600\n",
      "class: class_9, n_estimators: 1000, max_depth: 3, learning_rate: 0.010, precision: 0.375, recall: 1.000, F1: 0.545\n",
      "class: class_9, n_estimators: 1000, max_depth: 3, learning_rate: 0.100, precision: 0.500, recall: 0.667, F1: 0.571\n",
      "class: class_9, n_estimators: 1000, max_depth: 3, learning_rate: 1.000, precision: 0.600, recall: 1.000, F1: 0.750\n",
      "class: class_9, n_estimators: 1000, max_depth: 5, learning_rate: 0.010, precision: 0.375, recall: 1.000, F1: 0.545\n",
      "class: class_9, n_estimators: 1000, max_depth: 5, learning_rate: 0.100, precision: 0.500, recall: 1.000, F1: 0.667\n",
      "class: class_9, n_estimators: 1000, max_depth: 5, learning_rate: 1.000, precision: 0.375, recall: 1.000, F1: 0.545\n",
      "class: class_9, n_estimators: 1000, max_depth: 8, learning_rate: 0.010, precision: 0.286, recall: 0.667, F1: 0.400\n",
      "class: class_9, n_estimators: 1000, max_depth: 8, learning_rate: 0.100, precision: 0.333, recall: 0.667, F1: 0.444\n",
      "class: class_9, n_estimators: 1000, max_depth: 8, learning_rate: 1.000, precision: 0.333, recall: 0.667, F1: 0.444\n"
     ]
    }
   ],
   "source": [
    "gridSearchGBDT(X_ml, y_ml)"
   ]
  },
  {
   "cell_type": "markdown",
   "metadata": {},
   "source": [
    "#### 8.2.4 RF"
   ]
  },
  {
   "cell_type": "code",
   "execution_count": 55,
   "metadata": {},
   "outputs": [
    {
     "name": "stdout",
     "output_type": "stream",
     "text": [
      "class_1 {'Precision': 0.375, 'Recall': 0.545, 'F1': 0.444}\n",
      "class_2 {'Precision': 0.353, 'Recall': 0.333, 'F1': 0.343}\n",
      "class_3 {'Precision': 0.736, 'Recall': 0.651, 'F1': 0.691}\n",
      "class_4 {'Precision': 0.526, 'Recall': 0.5, 'F1': 0.513}\n",
      "class_5 {'Precision': 0.746, 'Recall': 0.674, 'F1': 0.708}\n",
      "class_6 {'Precision': 0.556, 'Recall': 0.455, 'F1': 0.5}\n",
      "class_7 {'Precision': 0.638, 'Recall': 0.607, 'F1': 0.622}\n",
      "class_8 {'Precision': 0.61, 'Recall': 0.51, 'F1': 0.556}\n",
      "class_9 {'Precision': 0.667, 'Recall': 0.615, 'F1': 0.64}\n",
      "\n",
      "9 Classes Overall Precision: 0.652, Recall: 0.589, F1 score: 0.619\n"
     ]
    },
    {
     "data": {
      "image/png": "[encoded data removed]",
      "text/plain": [
       "<Figure size 300x300 with 1 Axes>"
      ]
     },
     "metadata": {},
     "output_type": "display_data"
    }
   ],
   "source": [
    "forest = RandomForestClassifier(n_estimators = 1000)\n",
    "clf_forest = BRClassifier(forest)\n",
    "clf_forest.fit(X_ml, y_ml)"
   ]
  },
  {
   "cell_type": "markdown",
   "metadata": {},
   "source": [
    "### 8.3 Classifier Chains"
   ]
  },
  {
   "cell_type": "markdown",
   "metadata": {},
   "source": [
    "#### As discussed earlier, there is no correlation between different class labels, thus, Classifier Chain may behave similar to Binary Relevance. "
   ]
  },
  {
   "cell_type": "code",
   "execution_count": 56,
   "metadata": {},
   "outputs": [],
   "source": [
    "# Build Classifier Chains model using random forest, since it has good record for F1 score.\n",
    "def ClassifierChains(X, y):\n",
    "    X_train, X_test, y_train, y_test = train_test_split(X, y, test_size = 0.25,random_state=1,shuffle = True)\n",
    "    \n",
    "    for label in y_train.columns: \n",
    "        clf = RandomForestClassifier(n_estimators = 1000)\n",
    "        \n",
    "        # upsampling minority class using synthetic data\n",
    "        smt = SMOTE()\n",
    "        X_train_smt, y_train_smt = smt.fit_resample(X_train, y_train[label])\n",
    "        \n",
    "        clf.fit(X_train_smt, y_train_smt)\n",
    "        y_pred = clf.predict(X_test)\n",
    "        X_train[label] = y_train[label]\n",
    "        X_test[label] = y_pred\n",
    "        print(label, f1_score(y_test[label], y_pred))\n",
    "        "
   ]
  },
  {
   "cell_type": "code",
   "execution_count": 56,
   "metadata": {},
   "outputs": [
    {
     "name": "stdout",
     "output_type": "stream",
     "text": [
      "class_1 0.4\n",
      "class_2 0.3636363636363636\n",
      "class_3 0.7058823529411765\n",
      "class_4 0.4931506849315069\n",
      "class_5 0.6880000000000001\n",
      "class_6 0.4556962025316455\n",
      "class_7 0.5974025974025974\n",
      "class_8 0.611111111111111\n",
      "class_9 0.64\n"
     ]
    }
   ],
   "source": [
    "df_cc = ClassifierChains(X_ml, y_ml)"
   ]
  },
  {
   "cell_type": "markdown",
   "metadata": {},
   "source": [
    "## 9. Binary Classification Vs. Multi-label Classification"
   ]
  },
  {
   "cell_type": "markdown",
   "metadata": {},
   "source": [
    "### Use Confusion Matrix and F1 score as metric to compare both approaches and Binary Relevance with Random Forest showed higher F1 score. Thus, Binary Relevance with Random Forest is used to predict the test data set.\n",
    "#### Binary Classification: {'Precision': 0.594, 'Recall': 0.456, 'F1': 0.516}\n",
    "#### Multi-label Classification: {'Precision': 0.657, 'Recall': 0.587, 'F1 score': 0.620}"
   ]
  },
  {
   "cell_type": "code",
   "execution_count": 57,
   "metadata": {},
   "outputs": [
    {
     "data": {
      "text/plain": [
       "<__main__.BinaryClassification at 0x104546a90>"
      ]
     },
     "execution_count": 57,
     "metadata": {},
     "output_type": "execute_result"
    }
   ],
   "source": [
    "# Direct comparision between Approach I and Approach II:\n",
    "# In case of binary classification, I removed pure A and pure B samples, who have all positive labels to match \n",
    "# with the multi-label classification data set.\n",
    "# Binary Classification with GBDT: F1 score 0.516: \n",
    "\n",
    "# remove pure A and pure B samples\n",
    "df_bc_9class = df_bc[(df_bc['B_ratio'] != 100) & (df_bc['B_ratio'] != 0)]\n",
    "\n",
    "# prepare input feature X_2 and label y_2\n",
    "X_2 = df_bc_9class.drop(['label'], axis = 1)\n",
    "y_2 = df_bc_9class['label']\n",
    "\n",
    "# Use best binary classification model GBDT\n",
    "gbdt_2 = GradientBoostingClassifier(n_estimators = 1000, max_depth = 5, learning_rate = 0.1)\n",
    "gbdt_clf_2 = BinaryClassification(gbdt_2)\n",
    "gbdt_clf_2.fit(X_2, y_2)"
   ]
  },
  {
   "cell_type": "code",
   "execution_count": 58,
   "metadata": {},
   "outputs": [
    {
     "data": {
      "text/plain": [
       "{'Precision': 0.603, 'Recall': 0.457, 'F1': 0.52}"
      ]
     },
     "execution_count": 58,
     "metadata": {},
     "output_type": "execute_result"
    }
   ],
   "source": [
    "gbdt_clf_2.scores_"
   ]
  },
  {
   "cell_type": "markdown",
   "metadata": {},
   "source": [
    "## 10. Test Data Prediction and Submission"
   ]
  },
  {
   "cell_type": "code",
   "execution_count": 60,
   "metadata": {},
   "outputs": [],
   "source": [
    "# Use Binary Relevance Method combined with RF for test data prediction:\n",
    "# Load test set\n",
    "test_ml= pd.read_csv('test_data.csv')\n",
    "\n",
    "df_test = test_ml.copy()\n",
    "\n",
    "# Drop the highly correlated features\n",
    "df_test = df_test.drop(['formulaA_elements_GSbandgap','formulaA_elements_GSestBCClatcnt', 'formulaA_elements_GSvolume_pa',\n",
    "                     'formulaA_elements_ICSDVolume','formulaA_elements_Column', 'formulaA_elements_Number', \n",
    "                      'formulaA_elements_Row','formulaB_elements_GSestBCClatcnt', 'formulaB_elements_GSvolume_pa',\n",
    "                     'formulaB_elements_ICSDVolume','formulaB_elements_Column', 'formulaB_elements_Number',\n",
    "                      'formulaB_elements_Row', 'formulaA', 'formulaB'], axis = 1)"
   ]
  },
  {
   "cell_type": "code",
   "execution_count": 61,
   "metadata": {},
   "outputs": [],
   "source": [
    "# Predict the stability vector for test set\n",
    "\n",
    "def predict(X, y, test):\n",
    "    \n",
    "    test_copy = test.copy()\n",
    "    \n",
    "    # predict label for each class, thus there would be 9 predictions\n",
    "    \n",
    "    for label in y.columns: \n",
    "        clf = RandomForestClassifier(n_estimators = 1000)\n",
    "        smt = SMOTE()\n",
    "        X_train_smt, y_train_smt = smt.fit_resample(X, y[label])\n",
    "        clf.fit(X_train_smt, y_train_smt)\n",
    "        \n",
    "        test_copy[label] = clf.predict(test)\n",
    "        test_copy[label] = test_copy[label].astype(str)\n",
    "    \n",
    "    return test_copy\n",
    "        "
   ]
  },
  {
   "cell_type": "code",
   "execution_count": 62,
   "metadata": {},
   "outputs": [],
   "source": [
    "test_pred = predict(X_ml, y_ml, df_test)"
   ]
  },
  {
   "cell_type": "code",
   "execution_count": 63,
   "metadata": {},
   "outputs": [],
   "source": [
    "# Merge all 11 classes together into stabilityVec str format: '[1.0, 0.0, ......, 1.0]'\n",
    "\n",
    "def submission_ml(df):\n",
    "    test_pred = df.copy()\n",
    "    test_pred['stabilityVec'] = test_pred[test_pred.columns[-9:]].apply(lambda x: ','.join(x.astype(np.float).astype(str)), axis = 1)\n",
    "    test_pred['stabilityVec'] = test_pred['stabilityVec'].apply(lambda x: '[' + '1.0,' + x + ',1.0' + ']')\n",
    "    sub = test_pred[['formulaA_elements_AtomicWeight','formulaB_elements_AtomicWeight', 'stabilityVec']]\n",
    "    df_test_submission = pd.merge(test_ml, sub, on=['formulaA_elements_AtomicWeight','formulaB_elements_AtomicWeight'], how = 'inner')\n",
    "    return df_test_submission\n"
   ]
  },
  {
   "cell_type": "code",
   "execution_count": 64,
   "metadata": {},
   "outputs": [],
   "source": [
    "test_sub = submission_ml(test_pred)"
   ]
  },
  {
   "cell_type": "code",
   "execution_count": 77,
   "metadata": {},
   "outputs": [],
   "source": [
    "test_sub.to_csv('test_submission_ml.csv')"
   ]
  },
  {
   "cell_type": "code",
   "execution_count": 70,
   "metadata": {},
   "outputs": [
    {
     "name": "stdout",
     "output_type": "stream",
     "text": [
      "There are 549 of predictions between Binary Classification and Multi-label Classification are the same\n"
     ]
    }
   ],
   "source": [
    "print('There are %d of predictions between Binary Classification and Multi-label Classification are the same' %\n",
    "      (np.sum(test_sub['stabilityVec'] == df_test_submission ['stabilityVec'])))"
   ]
  },
  {
   "cell_type": "code",
   "execution_count": null,
   "metadata": {},
   "outputs": [],
   "source": []
  }
 ],
 "metadata": {
  "kernelspec": {
   "display_name": "Python 3",
   "language": "python",
   "name": "python3"
  },
  "language_info": {
   "codemirror_mode": {
    "name": "ipython",
    "version": 3
   },
   "file_extension": ".py",
   "mimetype": "text/x-python",
   "name": "python",
   "nbconvert_exporter": "python",
   "pygments_lexer": "ipython3",
   "version": "3.6.6"
  }
 },
 "nbformat": 4,
 "nbformat_minor": 2
}
